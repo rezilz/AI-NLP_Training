{
  "nbformat": 4,
  "nbformat_minor": 0,
  "metadata": {
    "colab": {
      "name": "NLP_Training.ipynb",
      "provenance": [],
      "collapsed_sections": []
    },
    "kernelspec": {
      "name": "python3",
      "display_name": "Python 3"
    },
    "language_info": {
      "name": "python"
    }
  },
  "cells": [
    {
      "cell_type": "markdown",
      "metadata": {
        "id": "XHZGvAH3by8t"
      },
      "source": [
        "Install Thai *NLP*"
      ]
    },
    {
      "cell_type": "code",
      "metadata": {
        "colab": {
          "base_uri": "https://localhost:8080/"
        },
        "id": "T80AisDJbk8d",
        "outputId": "18d71a0b-a21d-412e-b285-d0ee011efadf"
      },
      "source": [
        "!pip install pythainlp"
      ],
      "execution_count": 1,
      "outputs": [
        {
          "output_type": "stream",
          "name": "stdout",
          "text": [
            "Collecting pythainlp\n",
            "  Downloading pythainlp-2.3.2-py3-none-any.whl (11.0 MB)\n",
            "\u001b[K     |████████████████████████████████| 11.0 MB 4.6 MB/s \n",
            "\u001b[?25hCollecting tinydb>=3.0\n",
            "  Downloading tinydb-4.5.2-py3-none-any.whl (23 kB)\n",
            "Collecting python-crfsuite>=0.9.6\n",
            "  Downloading python_crfsuite-0.9.7-cp37-cp37m-manylinux1_x86_64.whl (743 kB)\n",
            "\u001b[K     |████████████████████████████████| 743 kB 67.9 MB/s \n",
            "\u001b[?25hRequirement already satisfied: requests>=2.22.0 in /usr/local/lib/python3.7/dist-packages (from pythainlp) (2.23.0)\n",
            "Requirement already satisfied: urllib3!=1.25.0,!=1.25.1,<1.26,>=1.21.1 in /usr/local/lib/python3.7/dist-packages (from requests>=2.22.0->pythainlp) (1.24.3)\n",
            "Requirement already satisfied: idna<3,>=2.5 in /usr/local/lib/python3.7/dist-packages (from requests>=2.22.0->pythainlp) (2.10)\n",
            "Requirement already satisfied: certifi>=2017.4.17 in /usr/local/lib/python3.7/dist-packages (from requests>=2.22.0->pythainlp) (2021.10.8)\n",
            "Requirement already satisfied: chardet<4,>=3.0.2 in /usr/local/lib/python3.7/dist-packages (from requests>=2.22.0->pythainlp) (3.0.4)\n",
            "Requirement already satisfied: typing-extensions<4.0.0,>=3.10.0 in /usr/local/lib/python3.7/dist-packages (from tinydb>=3.0->pythainlp) (3.10.0.2)\n",
            "Installing collected packages: tinydb, python-crfsuite, pythainlp\n",
            "Successfully installed pythainlp-2.3.2 python-crfsuite-0.9.7 tinydb-4.5.2\n"
          ]
        }
      ]
    },
    {
      "cell_type": "code",
      "metadata": {
        "colab": {
          "base_uri": "https://localhost:8080/",
          "height": 35
        },
        "id": "g4J_rSUPcQsV",
        "outputId": "d772d843-2cb3-4f72-aab4-263b15207c7c"
      },
      "source": [
        "import pythainlp\n",
        "pythainlp.__version__"
      ],
      "execution_count": 2,
      "outputs": [
        {
          "output_type": "execute_result",
          "data": {
            "application/vnd.google.colaboratory.intrinsic+json": {
              "type": "string"
            },
            "text/plain": [
              "'2.3.2'"
            ]
          },
          "metadata": {},
          "execution_count": 2
        }
      ]
    },
    {
      "cell_type": "code",
      "metadata": {
        "colab": {
          "base_uri": "https://localhost:8080/",
          "height": 35
        },
        "id": "bN_LTs0Wch8O",
        "outputId": "6723f486-20a5-4add-be70-ad905ab54f37"
      },
      "source": [
        "pythainlp.thai_characters"
      ],
      "execution_count": 3,
      "outputs": [
        {
          "output_type": "execute_result",
          "data": {
            "application/vnd.google.colaboratory.intrinsic+json": {
              "type": "string"
            },
            "text/plain": [
              "'กขฃคฅฆงจฉชซฌญฎฏฐฑฒณดตถทธนบปผฝพฟภมยรลวศษสหฬอฮฤฦะัาำิีึืุูเแโใไๅํ็่้๊๋ฯฺๆ์ํ๎๏๚๛๐๑๒๓๔๕๖๗๘๙฿'"
            ]
          },
          "metadata": {},
          "execution_count": 3
        }
      ]
    },
    {
      "cell_type": "code",
      "metadata": {
        "colab": {
          "base_uri": "https://localhost:8080/",
          "height": 35
        },
        "id": "6KQ0qePscmTF",
        "outputId": "995f76c2-d121-4779-c98a-3415cb9fc734"
      },
      "source": [
        "pythainlp.thai_letters"
      ],
      "execution_count": 4,
      "outputs": [
        {
          "output_type": "execute_result",
          "data": {
            "application/vnd.google.colaboratory.intrinsic+json": {
              "type": "string"
            },
            "text/plain": [
              "'กขฃคฅฆงจฉชซฌญฎฏฐฑฒณดตถทธนบปผฝพฟภมยรลวศษสหฬอฮฤฦะัาำิีึืุูเแโใไๅํ็่้๊๋ฯฺๆ์ํ๎'"
            ]
          },
          "metadata": {},
          "execution_count": 4
        }
      ]
    },
    {
      "cell_type": "code",
      "metadata": {
        "colab": {
          "base_uri": "https://localhost:8080/"
        },
        "id": "1pBuGniadJRd",
        "outputId": "94b3b16a-8aba-4e61-9c45-804ae5d77a8e"
      },
      "source": [
        "!pip install tensorflow deepcut"
      ],
      "execution_count": 5,
      "outputs": [
        {
          "output_type": "stream",
          "name": "stdout",
          "text": [
            "Requirement already satisfied: tensorflow in /usr/local/lib/python3.7/dist-packages (2.7.0)\n",
            "Collecting deepcut\n",
            "  Downloading deepcut-0.7.0.0-py3-none-any.whl (2.0 MB)\n",
            "\u001b[K     |████████████████████████████████| 2.0 MB 5.3 MB/s \n",
            "\u001b[?25hRequirement already satisfied: opt-einsum>=2.3.2 in /usr/local/lib/python3.7/dist-packages (from tensorflow) (3.3.0)\n",
            "Requirement already satisfied: termcolor>=1.1.0 in /usr/local/lib/python3.7/dist-packages (from tensorflow) (1.1.0)\n",
            "Requirement already satisfied: flatbuffers<3.0,>=1.12 in /usr/local/lib/python3.7/dist-packages (from tensorflow) (2.0)\n",
            "Requirement already satisfied: six>=1.12.0 in /usr/local/lib/python3.7/dist-packages (from tensorflow) (1.15.0)\n",
            "Requirement already satisfied: grpcio<2.0,>=1.24.3 in /usr/local/lib/python3.7/dist-packages (from tensorflow) (1.41.1)\n",
            "Requirement already satisfied: wrapt>=1.11.0 in /usr/local/lib/python3.7/dist-packages (from tensorflow) (1.13.3)\n",
            "Requirement already satisfied: keras-preprocessing>=1.1.1 in /usr/local/lib/python3.7/dist-packages (from tensorflow) (1.1.2)\n",
            "Requirement already satisfied: protobuf>=3.9.2 in /usr/local/lib/python3.7/dist-packages (from tensorflow) (3.17.3)\n",
            "Requirement already satisfied: tensorflow-estimator<2.8,~=2.7.0rc0 in /usr/local/lib/python3.7/dist-packages (from tensorflow) (2.7.0)\n",
            "Requirement already satisfied: absl-py>=0.4.0 in /usr/local/lib/python3.7/dist-packages (from tensorflow) (0.12.0)\n",
            "Requirement already satisfied: numpy>=1.14.5 in /usr/local/lib/python3.7/dist-packages (from tensorflow) (1.19.5)\n",
            "Requirement already satisfied: tensorflow-io-gcs-filesystem>=0.21.0 in /usr/local/lib/python3.7/dist-packages (from tensorflow) (0.21.0)\n",
            "Requirement already satisfied: keras<2.8,>=2.7.0rc0 in /usr/local/lib/python3.7/dist-packages (from tensorflow) (2.7.0)\n",
            "Requirement already satisfied: google-pasta>=0.1.1 in /usr/local/lib/python3.7/dist-packages (from tensorflow) (0.2.0)\n",
            "Requirement already satisfied: gast<0.5.0,>=0.2.1 in /usr/local/lib/python3.7/dist-packages (from tensorflow) (0.4.0)\n",
            "Requirement already satisfied: tensorboard~=2.6 in /usr/local/lib/python3.7/dist-packages (from tensorflow) (2.7.0)\n",
            "Requirement already satisfied: wheel<1.0,>=0.32.0 in /usr/local/lib/python3.7/dist-packages (from tensorflow) (0.37.0)\n",
            "Requirement already satisfied: astunparse>=1.6.0 in /usr/local/lib/python3.7/dist-packages (from tensorflow) (1.6.3)\n",
            "Requirement already satisfied: typing-extensions>=3.6.6 in /usr/local/lib/python3.7/dist-packages (from tensorflow) (3.10.0.2)\n",
            "Requirement already satisfied: libclang>=9.0.1 in /usr/local/lib/python3.7/dist-packages (from tensorflow) (12.0.0)\n",
            "Requirement already satisfied: h5py>=2.9.0 in /usr/local/lib/python3.7/dist-packages (from tensorflow) (3.1.0)\n",
            "Requirement already satisfied: cached-property in /usr/local/lib/python3.7/dist-packages (from h5py>=2.9.0->tensorflow) (1.5.2)\n",
            "Requirement already satisfied: setuptools>=41.0.0 in /usr/local/lib/python3.7/dist-packages (from tensorboard~=2.6->tensorflow) (57.4.0)\n",
            "Requirement already satisfied: requests<3,>=2.21.0 in /usr/local/lib/python3.7/dist-packages (from tensorboard~=2.6->tensorflow) (2.23.0)\n",
            "Requirement already satisfied: markdown>=2.6.8 in /usr/local/lib/python3.7/dist-packages (from tensorboard~=2.6->tensorflow) (3.3.4)\n",
            "Requirement already satisfied: tensorboard-plugin-wit>=1.6.0 in /usr/local/lib/python3.7/dist-packages (from tensorboard~=2.6->tensorflow) (1.8.0)\n",
            "Requirement already satisfied: werkzeug>=0.11.15 in /usr/local/lib/python3.7/dist-packages (from tensorboard~=2.6->tensorflow) (1.0.1)\n",
            "Requirement already satisfied: tensorboard-data-server<0.7.0,>=0.6.0 in /usr/local/lib/python3.7/dist-packages (from tensorboard~=2.6->tensorflow) (0.6.1)\n",
            "Requirement already satisfied: google-auth<3,>=1.6.3 in /usr/local/lib/python3.7/dist-packages (from tensorboard~=2.6->tensorflow) (1.35.0)\n",
            "Requirement already satisfied: google-auth-oauthlib<0.5,>=0.4.1 in /usr/local/lib/python3.7/dist-packages (from tensorboard~=2.6->tensorflow) (0.4.6)\n",
            "Requirement already satisfied: rsa<5,>=3.1.4 in /usr/local/lib/python3.7/dist-packages (from google-auth<3,>=1.6.3->tensorboard~=2.6->tensorflow) (4.7.2)\n",
            "Requirement already satisfied: cachetools<5.0,>=2.0.0 in /usr/local/lib/python3.7/dist-packages (from google-auth<3,>=1.6.3->tensorboard~=2.6->tensorflow) (4.2.4)\n",
            "Requirement already satisfied: pyasn1-modules>=0.2.1 in /usr/local/lib/python3.7/dist-packages (from google-auth<3,>=1.6.3->tensorboard~=2.6->tensorflow) (0.2.8)\n",
            "Requirement already satisfied: requests-oauthlib>=0.7.0 in /usr/local/lib/python3.7/dist-packages (from google-auth-oauthlib<0.5,>=0.4.1->tensorboard~=2.6->tensorflow) (1.3.0)\n",
            "Requirement already satisfied: importlib-metadata in /usr/local/lib/python3.7/dist-packages (from markdown>=2.6.8->tensorboard~=2.6->tensorflow) (4.8.2)\n",
            "Requirement already satisfied: pyasn1<0.5.0,>=0.4.6 in /usr/local/lib/python3.7/dist-packages (from pyasn1-modules>=0.2.1->google-auth<3,>=1.6.3->tensorboard~=2.6->tensorflow) (0.4.8)\n",
            "Requirement already satisfied: certifi>=2017.4.17 in /usr/local/lib/python3.7/dist-packages (from requests<3,>=2.21.0->tensorboard~=2.6->tensorflow) (2021.10.8)\n",
            "Requirement already satisfied: urllib3!=1.25.0,!=1.25.1,<1.26,>=1.21.1 in /usr/local/lib/python3.7/dist-packages (from requests<3,>=2.21.0->tensorboard~=2.6->tensorflow) (1.24.3)\n",
            "Requirement already satisfied: chardet<4,>=3.0.2 in /usr/local/lib/python3.7/dist-packages (from requests<3,>=2.21.0->tensorboard~=2.6->tensorflow) (3.0.4)\n",
            "Requirement already satisfied: idna<3,>=2.5 in /usr/local/lib/python3.7/dist-packages (from requests<3,>=2.21.0->tensorboard~=2.6->tensorflow) (2.10)\n",
            "Requirement already satisfied: oauthlib>=3.0.0 in /usr/local/lib/python3.7/dist-packages (from requests-oauthlib>=0.7.0->google-auth-oauthlib<0.5,>=0.4.1->tensorboard~=2.6->tensorflow) (3.1.1)\n",
            "Requirement already satisfied: scipy in /usr/local/lib/python3.7/dist-packages (from deepcut) (1.4.1)\n",
            "Requirement already satisfied: scikit-learn in /usr/local/lib/python3.7/dist-packages (from deepcut) (0.22.2.post1)\n",
            "Requirement already satisfied: pandas in /usr/local/lib/python3.7/dist-packages (from deepcut) (1.1.5)\n",
            "Requirement already satisfied: zipp>=0.5 in /usr/local/lib/python3.7/dist-packages (from importlib-metadata->markdown>=2.6.8->tensorboard~=2.6->tensorflow) (3.6.0)\n",
            "Requirement already satisfied: pytz>=2017.2 in /usr/local/lib/python3.7/dist-packages (from pandas->deepcut) (2018.9)\n",
            "Requirement already satisfied: python-dateutil>=2.7.3 in /usr/local/lib/python3.7/dist-packages (from pandas->deepcut) (2.8.2)\n",
            "Requirement already satisfied: joblib>=0.11 in /usr/local/lib/python3.7/dist-packages (from scikit-learn->deepcut) (1.1.0)\n",
            "Installing collected packages: deepcut\n",
            "Successfully installed deepcut-0.7.0.0\n"
          ]
        }
      ]
    },
    {
      "cell_type": "code",
      "metadata": {
        "colab": {
          "base_uri": "https://localhost:8080/"
        },
        "id": "D_ap0Tj1djM3",
        "outputId": "6d2d9044-b418-4b1a-c6c5-5cfc9d9e5c4e"
      },
      "source": [
        "from pythainlp import sent_tokenize, word_tokenize\n",
        "text = \"สวัสดีครับท่านสมาชิกทุกท่าน\"\n",
        "st = sent_tokenize(text)\n",
        "print(\"sent_tokenize: \",st)\n",
        "print(\"word_tokenize:\",word_tokenize(text))\n",
        "print(\"no whitespace:\",word_tokenize(text,keep_whitespace = False))"
      ],
      "execution_count": 6,
      "outputs": [
        {
          "output_type": "stream",
          "name": "stdout",
          "text": [
            "sent_tokenize:  ['สวัสดีครับท่านสมาชิกทุกท่าน']\n",
            "word_tokenize: ['สวัสดี', 'ครับ', 'ท่าน', 'สมาชิก', 'ทุกท่าน']\n",
            "no whitespace: ['สวัสดี', 'ครับ', 'ท่าน', 'สมาชิก', 'ทุกท่าน']\n"
          ]
        }
      ]
    },
    {
      "cell_type": "code",
      "metadata": {
        "colab": {
          "base_uri": "https://localhost:8080/"
        },
        "id": "E-bMLiJHeU7V",
        "outputId": "65280ac1-ca3c-413f-bc2e-8231dab14511"
      },
      "source": [
        "text = \"สวัสดีครับท่านสมาชิกทุกท่าน\"\n",
        "print(\"word_tokenize:\",word_tokenize(text))\n",
        "print(\"word_tokenize longest:\",word_tokenize(text,engine = \"longest\"))\n",
        "print(\"word_tokenize multi_cut:\",word_tokenize(text, engine = \"multi_cut\"))\n",
        "print(\"word_tokenize deepcut:\",word_tokenize(text, engine = \"deepcut\"))"
      ],
      "execution_count": 13,
      "outputs": [
        {
          "output_type": "stream",
          "name": "stdout",
          "text": [
            "word_tokenize: ['สวัสดี', 'ครับ', 'ท่าน', 'สมาชิก', 'ทุกท่าน']\n",
            "word_tokenize longest: ['สวัสดี', 'ครับ', 'ท่าน', 'สมาชิก', 'ทุกท่าน']\n",
            "word_tokenize multi_cut: ['สวัสดี', 'ครับ', 'ท่าน', 'สมาชิก', 'ทุกท่าน']\n",
            "word_tokenize deepcut: ['สวัสดี', 'ครับ', 'ท่าน', 'สมาชิก', 'ทุก', 'ท่าน']\n"
          ]
        }
      ]
    },
    {
      "cell_type": "code",
      "metadata": {
        "colab": {
          "base_uri": "https://localhost:8080/"
        },
        "id": "A63BdDE8excs",
        "outputId": "ef1a07d2-7603-4978-d35d-74954ed6279b"
      },
      "source": [
        "from pythainlp.corpus.common import thai_words\n",
        "from pythainlp.util import Trie\n",
        "text= \"บิตโตะลาเต้คอยน์ช่วงนี้ น่าจะเป็นขาลงนะ วันนี้ฉันว่าจะซื้อเพ่ิม\"\n",
        "print(\"newmm    :\", word_tokenize(text)) \n",
        "new_words = {\"บิตโตะ\",\"ลาเต้คอยน์\"}\n",
        "words = new_words.union(thai_words())\n",
        "custom_dictionary_trie = Trie(words)\n",
        "\n",
        "print(word_tokenize(text,custom_dict=custom_dictionary_trie))"
      ],
      "execution_count": 7,
      "outputs": [
        {
          "output_type": "stream",
          "name": "stdout",
          "text": [
            "newmm    : ['บิต', 'โตะ', 'ลาเต้', 'คอย', 'น์', 'ช่วงนี้', ' ', 'น่าจะเป็น', 'ขา', 'ลง', 'นะ', ' ', 'วันนี้', 'ฉัน', 'ว่า', 'จะ', 'ซื้อ', 'เพ่', 'ิม']\n",
            "['บิตโตะ', 'ลาเต้คอยน์', 'ช่วงนี้', ' ', 'น่าจะเป็น', 'ขา', 'ลง', 'นะ', ' ', 'วันนี้', 'ฉัน', 'ว่า', 'จะ', 'ซื้อ', 'เพ่', 'ิม']\n"
          ]
        }
      ]
    },
    {
      "cell_type": "markdown",
      "metadata": {
        "id": "WDM3sj81hRbw"
      },
      "source": [
        "Stemming_Lemmatization (English NLP)"
      ]
    },
    {
      "cell_type": "code",
      "metadata": {
        "colab": {
          "base_uri": "https://localhost:8080/"
        },
        "id": "wy34Iq_OiCGj",
        "outputId": "4df12ca3-1bcf-4883-cdb6-f3b3b13e0856"
      },
      "source": [
        "!pip install nltk"
      ],
      "execution_count": 15,
      "outputs": [
        {
          "output_type": "stream",
          "name": "stdout",
          "text": [
            "Requirement already satisfied: nltk in /usr/local/lib/python3.7/dist-packages (3.2.5)\n",
            "Requirement already satisfied: six in /usr/local/lib/python3.7/dist-packages (from nltk) (1.15.0)\n"
          ]
        }
      ]
    },
    {
      "cell_type": "code",
      "metadata": {
        "colab": {
          "base_uri": "https://localhost:8080/"
        },
        "id": "wZO1gmTyhV8O",
        "outputId": "14465548-5b7d-4bc3-b7b4-7fba20125974"
      },
      "source": [
        "import nltk \n",
        "nltk.download()"
      ],
      "execution_count": 18,
      "outputs": [
        {
          "name": "stdout",
          "output_type": "stream",
          "text": [
            "NLTK Downloader\n",
            "---------------------------------------------------------------------------\n",
            "    d) Download   l) List    u) Update   c) Config   h) Help   q) Quit\n",
            "---------------------------------------------------------------------------\n",
            "Downloader> d\n",
            "\n",
            "Download which package (l=list; x=cancel)?\n",
            "  Identifier> l\n",
            "Packages:\n",
            "  [ ] abc................. Australian Broadcasting Commission 2006\n",
            "  [ ] alpino.............. Alpino Dutch Treebank\n",
            "  [ ] averaged_perceptron_tagger Averaged Perceptron Tagger\n",
            "  [ ] averaged_perceptron_tagger_ru Averaged Perceptron Tagger (Russian)\n",
            "  [ ] basque_grammars..... Grammars for Basque\n",
            "  [ ] biocreative_ppi..... BioCreAtIvE (Critical Assessment of Information\n",
            "                           Extraction Systems in Biology)\n",
            "  [ ] bllip_wsj_no_aux.... BLLIP Parser: WSJ Model\n",
            "  [ ] book_grammars....... Grammars from NLTK Book\n",
            "  [ ] brown............... Brown Corpus\n",
            "  [ ] brown_tei........... Brown Corpus (TEI XML Version)\n",
            "  [ ] cess_cat............ CESS-CAT Treebank\n",
            "  [ ] cess_esp............ CESS-ESP Treebank\n",
            "  [ ] chat80.............. Chat-80 Data Files\n",
            "  [ ] city_database....... City Database\n",
            "  [ ] cmudict............. The Carnegie Mellon Pronouncing Dictionary (0.6)\n",
            "  [ ] comparative_sentences Comparative Sentence Dataset\n",
            "  [ ] comtrans............ ComTrans Corpus Sample\n",
            "  [ ] conll2000........... CONLL 2000 Chunking Corpus\n",
            "  [ ] conll2002........... CONLL 2002 Named Entity Recognition Corpus\n",
            "Hit Enter to continue: q\n",
            "\n",
            "Download which package (l=list; x=cancel)?\n",
            "  Identifier> x\n",
            "\n",
            "---------------------------------------------------------------------------\n",
            "    d) Download   l) List    u) Update   c) Config   h) Help   q) Quit\n",
            "---------------------------------------------------------------------------\n",
            "Downloader> q\n"
          ]
        },
        {
          "output_type": "execute_result",
          "data": {
            "text/plain": [
              "True"
            ]
          },
          "metadata": {},
          "execution_count": 18
        }
      ]
    },
    {
      "cell_type": "code",
      "metadata": {
        "id": "c3mUuKdjiaJ3"
      },
      "source": [
        "from nltk.stem import PorterStemmer\n",
        "from nltk.tokenize import sent_tokenize, word_tokenize\n",
        "\n",
        "ps = PorterStemmer()"
      ],
      "execution_count": 21,
      "outputs": []
    },
    {
      "cell_type": "code",
      "metadata": {
        "id": "KGQLDOhviept"
      },
      "source": [
        "example_words = [\"I\",\"am\",\"going\",\"to\",\"a\",\"party\",\"tonight\",\"She\",\"saw\",\"him\",\"helping\",\"kids\"]\n",
        "example_words2 = [\"ran\",\"him\",\"helping\",\"her\",\"kids\",\"saw\",\"shoes\",\"adjustable\",\"feet\"]"
      ],
      "execution_count": 32,
      "outputs": []
    },
    {
      "cell_type": "code",
      "metadata": {
        "colab": {
          "base_uri": "https://localhost:8080/"
        },
        "id": "dxOXImPNigpi",
        "outputId": "ce0dfa84-7139-4a5d-897c-c44a1568a576"
      },
      "source": [
        "for w in example_words2:\n",
        "    print(ps.stem(w))"
      ],
      "execution_count": 33,
      "outputs": [
        {
          "output_type": "stream",
          "name": "stdout",
          "text": [
            "ran\n",
            "him\n",
            "help\n",
            "her\n",
            "kid\n",
            "saw\n",
            "shoe\n",
            "adjust\n",
            "feet\n"
          ]
        }
      ]
    },
    {
      "cell_type": "markdown",
      "metadata": {
        "id": "TgPIQ8dWqQeX"
      },
      "source": [
        "After morning break"
      ]
    },
    {
      "cell_type": "code",
      "metadata": {
        "colab": {
          "base_uri": "https://localhost:8080/"
        },
        "id": "YbOdTgOfqNYp",
        "outputId": "458fbf20-3397-4964-e142-e8da35fc9149"
      },
      "source": [
        "import nltk \n",
        "nltk.download(\"wordnet\")"
      ],
      "execution_count": 36,
      "outputs": [
        {
          "output_type": "stream",
          "name": "stdout",
          "text": [
            "[nltk_data] Downloading package wordnet to /root/nltk_data...\n",
            "[nltk_data]   Unzipping corpora/wordnet.zip.\n"
          ]
        },
        {
          "output_type": "execute_result",
          "data": {
            "text/plain": [
              "True"
            ]
          },
          "metadata": {},
          "execution_count": 36
        }
      ]
    },
    {
      "cell_type": "code",
      "metadata": {
        "colab": {
          "base_uri": "https://localhost:8080/"
        },
        "id": "BNFU_CFQqXjX",
        "outputId": "e0c281e9-aab4-4d34-c5c9-c68ea72ffb2e"
      },
      "source": [
        "from nltk.stem import WordNetLemmatizer\n",
        "lemmatizer = WordNetLemmatizer()\n",
        "\n",
        "print(lemmatizer.lemmatize('worst', pos=\"a\"))\n",
        "print(lemmatizer.lemmatize('bestest', pos=\"a\"))\n",
        "print(lemmatizer.lemmatize('better', pos=\"a\"))\n",
        "\n",
        "print(lemmatizer.lemmatize('helping', pos=\"v\"))\n",
        "print(lemmatizer.lemmatize('saw', pos=\"v\"))\n",
        "\n",
        "print(lemmatizer.lemmatize(' '.join(example_words)))"
      ],
      "execution_count": 37,
      "outputs": [
        {
          "output_type": "stream",
          "name": "stdout",
          "text": [
            "bad\n",
            "best\n",
            "good\n",
            "help\n",
            "saw\n",
            "I am going to a party tonight She saw him helping kids\n"
          ]
        }
      ]
    },
    {
      "cell_type": "markdown",
      "metadata": {
        "id": "xEQ8HJ5awRjh"
      },
      "source": [
        "Stopwords jaaaa"
      ]
    },
    {
      "cell_type": "code",
      "metadata": {
        "colab": {
          "base_uri": "https://localhost:8080/"
        },
        "id": "rvZQimQKwVg2",
        "outputId": "699baa9b-c9ca-483a-801c-58f981cca96a"
      },
      "source": [
        "import nltk \n",
        "nltk.download(\"stopwords\")\n",
        "nltk.download('punkt')"
      ],
      "execution_count": 44,
      "outputs": [
        {
          "output_type": "stream",
          "name": "stdout",
          "text": [
            "[nltk_data] Downloading package stopwords to /root/nltk_data...\n",
            "[nltk_data]   Package stopwords is already up-to-date!\n",
            "[nltk_data] Downloading package punkt to /root/nltk_data...\n",
            "[nltk_data]   Unzipping tokenizers/punkt.zip.\n"
          ]
        },
        {
          "output_type": "execute_result",
          "data": {
            "text/plain": [
              "True"
            ]
          },
          "metadata": {},
          "execution_count": 44
        }
      ]
    },
    {
      "cell_type": "code",
      "metadata": {
        "colab": {
          "base_uri": "https://localhost:8080/"
        },
        "id": "8QaZKwbUwdj5",
        "outputId": "e4cce737-7e53-4c30-807d-c21ef92a637c"
      },
      "source": [
        "import nltk\n",
        "from nltk.corpus import stopwords\n",
        "print(stopwords.words('english'))\n",
        "print(len(stopwords.words('english')))"
      ],
      "execution_count": 40,
      "outputs": [
        {
          "output_type": "stream",
          "name": "stdout",
          "text": [
            "['i', 'me', 'my', 'myself', 'we', 'our', 'ours', 'ourselves', 'you', \"you're\", \"you've\", \"you'll\", \"you'd\", 'your', 'yours', 'yourself', 'yourselves', 'he', 'him', 'his', 'himself', 'she', \"she's\", 'her', 'hers', 'herself', 'it', \"it's\", 'its', 'itself', 'they', 'them', 'their', 'theirs', 'themselves', 'what', 'which', 'who', 'whom', 'this', 'that', \"that'll\", 'these', 'those', 'am', 'is', 'are', 'was', 'were', 'be', 'been', 'being', 'have', 'has', 'had', 'having', 'do', 'does', 'did', 'doing', 'a', 'an', 'the', 'and', 'but', 'if', 'or', 'because', 'as', 'until', 'while', 'of', 'at', 'by', 'for', 'with', 'about', 'against', 'between', 'into', 'through', 'during', 'before', 'after', 'above', 'below', 'to', 'from', 'up', 'down', 'in', 'out', 'on', 'off', 'over', 'under', 'again', 'further', 'then', 'once', 'here', 'there', 'when', 'where', 'why', 'how', 'all', 'any', 'both', 'each', 'few', 'more', 'most', 'other', 'some', 'such', 'no', 'nor', 'not', 'only', 'own', 'same', 'so', 'than', 'too', 'very', 's', 't', 'can', 'will', 'just', 'don', \"don't\", 'should', \"should've\", 'now', 'd', 'll', 'm', 'o', 're', 've', 'y', 'ain', 'aren', \"aren't\", 'couldn', \"couldn't\", 'didn', \"didn't\", 'doesn', \"doesn't\", 'hadn', \"hadn't\", 'hasn', \"hasn't\", 'haven', \"haven't\", 'isn', \"isn't\", 'ma', 'mightn', \"mightn't\", 'mustn', \"mustn't\", 'needn', \"needn't\", 'shan', \"shan't\", 'shouldn', \"shouldn't\", 'wasn', \"wasn't\", 'weren', \"weren't\", 'won', \"won't\", 'wouldn', \"wouldn't\"]\n",
            "179\n"
          ]
        }
      ]
    },
    {
      "cell_type": "code",
      "metadata": {
        "colab": {
          "base_uri": "https://localhost:8080/"
        },
        "id": "XmJQ22HHwooG",
        "outputId": "75e014c2-3fe1-462e-cb6c-93556146a715"
      },
      "source": [
        "from nltk.corpus import stopwords\n",
        "from nltk.tokenize import word_tokenize\n",
        " \n",
        "example_txt= \"This is a sample sentence, showing off the stop words filtration.\"\n",
        "wt = word_tokenize(example_txt)\n",
        "filtered_sentence = []\n",
        "\n",
        "for i in wt:\n",
        "  if i not in stopwords.words('english'):\n",
        "    filtered_sentence.append(i)\n",
        "\n",
        "print(filtered_sentence)"
      ],
      "execution_count": 45,
      "outputs": [
        {
          "output_type": "stream",
          "name": "stdout",
          "text": [
            "['This', 'sample', 'sentence', ',', 'showing', 'stop', 'words', 'filtration', '.']\n"
          ]
        }
      ]
    },
    {
      "cell_type": "code",
      "metadata": {
        "colab": {
          "base_uri": "https://localhost:8080/"
        },
        "id": "9VLO6tDaz8NA",
        "outputId": "b744fde2-ca83-4c8b-8e36-9b3f2d1ba91c"
      },
      "source": [
        "from pythainlp.tokenize import word_tokenize\n",
        "text = \"ฉันไม่อยากจะบอกเลยว่าไปห้างทีไร กระเป๋าฉีกทุกที\"\n",
        "list_word = word_tokenize(text)\n",
        "print(list_word)"
      ],
      "execution_count": 46,
      "outputs": [
        {
          "output_type": "stream",
          "name": "stdout",
          "text": [
            "['ฉัน', 'ไม่', 'อยาก', 'จะ', 'บอก', 'เลย', 'ว่า', 'ไป', 'ห้าง', 'ทีไร', ' ', 'กระเป๋าฉีก', 'ทุกที']\n"
          ]
        }
      ]
    },
    {
      "cell_type": "code",
      "metadata": {
        "colab": {
          "base_uri": "https://localhost:8080/"
        },
        "id": "jNx_KGnMz9Mv",
        "outputId": "aa38f880-1b94-4eba-fd4d-a9bd97820a79"
      },
      "source": [
        "from pythainlp.corpus import thai_stopwords\n",
        "stopwords = list(thai_stopwords())\n",
        "print(stopwords)\n",
        "print(len(stopwords))"
      ],
      "execution_count": 49,
      "outputs": [
        {
          "output_type": "stream",
          "name": "stdout",
          "text": [
            "['คิด', 'แค่', 'คราว', 'ก็ดี', 'อย่างๆ', 'ส่วนนั้น', 'นับแต่ที่', 'เท่าไร', 'มิใช่', 'เมื่อคืน', 'พยายาม', 'ตลอด', 'เสียจนถึง', 'อื่นๆ', 'แล้วเสร็จ', 'หากแม้', 'ไม่เป็นไร', 'ทีเถอะ', 'นู่น', 'เหตุ', 'ตั้งแต่', 'เป็นที', 'เท่าใด', 'อันที่', 'ภาคฯ', 'นับตั้งแต่', 'แต่ละ', 'พวกกู', 'และ', 'มีแต่', 'เพิ่ง', 'แต่เมื่อ', 'ช่วงระหว่าง', 'ที่ซึ่ง', 'นอกจากนี้', 'บ่อยๆ', 'ไม่ว่า', 'ใหญ่โต', 'มิ', 'หนอย', 'เพราะ', 'บางขณะ', 'ถึงเมื่อ', 'ที่ใด', 'กลับ', 'เยอะๆ', 'นอกจากว่า', 'ละ', 'แต่นั้น', 'เป็นเพื่อ', 'แม้กระทั่ง', 'ฯลฯ', 'ถึงแม้ว่า', 'มอง', 'รวดเร็ว', 'เป็นอาทิ', 'เกี่ยวข้อง', 'ภายใต้', 'ขณะนั้น', 'แต่ก่อน', 'ซึ่งกันและกัน', 'เหตุไร', 'ถูก', 'จังๆ', 'เนี่ย', 'ฯ', 'ดังกับ', 'เธอ', 'หรือเปล่า', 'แต่ไร', 'ตาม', 'เนื่องจาก', 'ตลอดระยะเวลา', 'เกือบ', 'ซึ่งกัน', 'เสียนี่', 'ตนเอง', 'เดียวกัน', 'ฯล', 'เมื่อครั้ง', 'พวกที่', 'เผื่อที่', 'สําหรับ', 'ส่วนน้อย', 'บ่อย', 'ครั้งนี้', 'กับ', 'บางครา', 'จ้ะ', 'ดัง', 'นะ', 'เกี่ยวเนื่อง', 'นำพา', 'จึง', 'ยังคง', 'นับแต่นั้น', 'กระทำ', 'เปิด', 'ที่ว่า', 'ตรง', 'บางครั้ง', 'เสียนี่กระไร', 'ต่าง', 'วันนี้', 'ยิ่งจะ', 'ปิด', 'ใหญ่', 'ดั่งเก่า', 'เกือบๆ', 'ข้างต้น', 'ด้วยเช่นกัน', 'มั้ย', 'บางที่', 'จริงๆ', 'ซึ่งๆ', 'ส่วนที่', 'ครั้งนั้น', 'จรด', 'คุณ', 'เปิดเผย', 'เฉกเช่น', 'มาก', 'ทำให้', 'รวมกัน', 'ตามด้วย', 'ที่แท้', 'วันใด', 'ค่อนข้าง', 'อย่างมาก', 'เช่นก่อน', 'เสียก่อน', 'ด้วยเหตุที่', 'ด้วยเหตุเพราะ', 'ครบครัน', 'ทุกชิ้น', 'สู่', 'พอตัว', 'ปรากฏว่า', 'เอา', 'เถิด', 'ทั้งที่', 'วันนั้น', 'ปฏิบัติ', 'ๆ', 'ที่', 'กำหนด', 'ได้ที่', 'รึ', 'พร้อมทั้ง', 'เล็ก', 'ฉัน', 'นั่นเอง', 'ครั้งหลัง', 'เช่นเดียวกับ', 'บัดดล', 'จากนี้', 'เห็นจะ', 'เป็นอัน', 'ขณะใด', 'ข้างๆ', 'คราหนึ่ง', 'วัน', 'หาใช่', 'แค่เพียง', 'ในระหว่าง', 'มั้ยเนี่ย', 'นางสาว', 'ยิ่งนัก', '\\ufeffๆ', 'ทุกๆ', 'นับแต่', 'อาจเป็น', 'เช่นเดียวกัน', 'เพียงเพื่อ', 'ดังกล่าว', 'พวกท่าน', 'รวมถึง', 'ส่วนดี', 'แต่เดิม', 'เผื่อจะ', 'แม้นว่า', 'เท่า', 'กระผม', 'เพียงแต่', 'ซึ่งได้แก่', 'ข้าง', 'นั้นๆ', 'เดียว', 'ช่วงนั้น', 'ครั้งคราว', 'เริ่ม', 'เล็กๆ', 'ที่สุด', 'เป็นเพียง', 'ด้วยเหตุว่า', 'รับ', 'ภายนอก', 'อย่างไรเสีย', 'คราใด', 'คราวหนึ่ง', 'บอก', 'เพื่อให้', 'เล่าว่า', 'ช่วงก่อน', 'พวกคุณ', 'เสร็จ', 'ใหญ่ๆ', 'ใช่ไหม', 'อย่างใด', 'จนบัดนี้', 'แบบ', 'ยาวนาน', 'อย่างที่', 'ถือ', 'เป็นอันมาก', 'บางๆ', 'พวกฉัน', 'ทุกวันนี้', 'ตามๆ', 'ถึงแก่', 'จัดทำ', 'อัน', 'ก่อนหน้า', 'ช่วง', 'ครั้งไหน', 'ต่างๆ', 'เมื่อครั้งก่อน', 'กว่า', 'เช่นดังที่', 'เต็มๆ', 'ครบถ้วน', 'ตลอดทั่ว', 'มิได้', 'ยืนยง', 'เพียงเพราะ', 'บอกว่า', 'เลย', 'บางแห่ง', 'ทุก', 'ทั้งนี้', 'อย่าง', 'นอกนั้น', 'เกิน', 'บ้าง', 'คราวๆ', 'กันไหม', 'หมดสิ้น', 'ค่อยไปทาง', 'เป็นต้น', 'ก็ต่อเมื่อ', 'รึว่า', 'ออก', 'โตๆ', 'พอดี', 'นั่นไง', 'สมัยก่อน', 'ตลอดทั่วทั้ง', 'เพื่อ', 'อย่างนั้น', 'สำคัญ', 'สั้นๆ', 'ประการหนึ่ง', 'ทำไม', 'สูงสุด', 'ฉะนี้', 'ทุกครั้ง', 'เช่นนั้น', 'จับ', 'เกือบจะ', 'ง่าย', 'แต่ว่า', 'เราๆ', 'ครับ', 'ค่อนมาทาง', 'มักจะ', 'เช่น', 'เหตุนั้น', 'แสดง', 'ไกล', 'ว่า', 'บางคราว', 'ถูกๆ', 'แค่จะ', 'เช่นดังเก่า', 'กำลังจะ', 'เช่นดัง', 'เมื่อคราว', 'แต่ก็', 'สิ้น', 'เยอะ', 'ที่นี้', 'ยังโง้น', 'ทั้งหมด', 'แม้ว่า', 'เหล่านั้น', 'ค่ะ', 'ทุกหน', 'แค่ว่า', 'ผล', 'บัดนั้น', 'ความ', 'หลาย', 'หนึ่ง', 'จำเป็น', 'ทั้งที', 'เสียยิ่ง', 'กันนะ', 'จริง', 'ภายหน้า', 'อันได้แก่', 'ซะ', 'สืบเนื่อง', 'ครั้ง', 'แค่ไหน', 'ทรง', 'เห็นว่า', 'ดั่งเคย', 'พร้อมด้วย', 'เอง', 'ยอม', 'ส่วนใด', 'อันจะ', 'ผ่าน', 'รวมทั้ง', 'กันดีไหม', 'สมัยโน้น', 'จ๋า', 'ให้แด่', 'พอควร', 'พอๆ', 'ปรากฏ', 'เข้า', 'ไกลๆ', 'ที่นั้น', 'ทุกทาง', 'ยิ่งแล้ว', 'ล้วนแต่', 'ยิ่ง', 'แห่งนั้น', 'อันๆ', 'เร็ว', 'บาง', 'เนี่ยเอง', 'เป็นต้นมา', 'รวม', 'ดังเก่า', 'อย่างเช่น', 'ได้แก่', 'เหล่านี้', 'น่า', 'ในที่', 'พวกเขา', 'พอที่', 'ก่อน', 'ต่อ', 'มากมาย', 'จด', 'แค่นั้น', 'ที', 'พร้อม', 'เมื่อก่อน', 'ก่อนๆ', 'อย่างไหน', 'กล่าว', 'พบ', 'เชื่อ', 'สิ่งนี้', 'ราย', 'ครา', 'มึง', 'ตามที่', 'เหตุผล', 'แต่ที่', 'คราวใด', 'ตลอดทั่วถึง', 'ก็คือ', 'นิดหน่อย', 'เมื่อเช้า', 'นำมา', 'เคยๆ', 'เป็นด้วย', 'สุดๆ', 'พอเพียง', 'บางที', 'อย่างไร', 'พอกัน', 'คิดว่า', 'ด้วยว่า', 'มัก', 'นาย', 'ยก', 'พวกมึง', 'บัดนี้', 'หน่อย', 'ฝ่ายใด', 'พอสมควร', 'พวกโน้น', 'ข้า', 'คล้ายกัน', 'ดั่ง', 'จากนั้น', 'อันละ', 'ให้', 'ไหน', 'บ่อยกว่า', 'แต่อย่างใด', 'คราวไหน', 'ต่างหาก', 'แท้', 'นั้น', 'จะ', 'หลัง', 'มองว่า', 'เช่นดังก่อน', 'จัดงาน', 'ร่วม', 'คล้ายกับว่า', 'เกินๆ', 'ช่วงท้าย', 'เสร็จแล้ว', 'พวกนั้น', 'แล้วแต่', 'เปลี่ยนแปลง', 'อย่างไรก็ได้', 'อย่างไรก็', 'จวบ', 'กล่าวคือ', 'ตั้ง', 'ทุกวัน', 'ระหว่าง', 'ช่วงหน้า', 'ยิ่งเมื่อ', 'แรก', 'ทุกตัว', 'แห่งใด', 'ทุกที่', 'มั๊ย', 'พอแล้ว', 'ยิ่งขึ้น', 'แก่', 'ค่อน', 'เกิด', 'นี่แหละ', 'ขณะใดๆ', 'คล้ายกับ', 'ด้วยเพราะ', 'ช่วงนี้', 'น้อยๆ', 'ส่วนเกิน', 'พึง', 'ก็ได้', 'ให้ไป', 'ทั้งนั้นด้วย', 'อันใด', 'ข้างบน', 'นั่น', 'พวกแก', 'เสียยิ่งนัก', 'อื่น', 'อยาก', 'ทุกที', 'ได้แต่', 'เป็นต้นไป', 'ทำๆ', 'เห็นแก่', 'ครั้งหนึ่ง', 'ต้อง', 'คราวก่อน', 'เพราะว่า', 'นี่', 'มา', 'บอกแล้ว', 'อย่างยิ่ง', 'จน', 'จง', 'ครัน', 'ย่อย', 'เท่านี้', 'เชื่อมั่น', 'หรือไง', 'หาก', 'เรา', 'กว้างขวาง', 'หนอ', 'ด้วยประการฉะนี้', 'เฉพาะ', 'เป็นๆ', 'หากแม้น', 'นอกจากนั้น', 'ทีเดียว', 'จนกว่า', 'คงจะ', 'น้อยกว่า', 'คะ', 'ทุกอย่าง', 'ยิ่งขึ้นไป', 'ทว่า', 'นักๆ', 'ส่วนด้อย', 'วันไหน', 'ระยะ', 'คุณๆ', 'เพื่อว่า', 'ไป', 'มี', 'มันๆ', 'เช่นกัน', 'สูง', 'ผ่านๆ', 'เช่นที่ว่า', 'เอ็ง', 'ล้วน', 'ได้รับ', 'ประกอบ', 'มุ่งเน้น', 'สั้น', 'รือว่า', 'ดั่งกับ', 'ก็จะ', 'หน', 'ครั้งที่', 'ได้มา', 'ตน', 'เป็นแต่', 'สมัยนั้น', 'พึ่ง', 'ประการใด', 'เสียจนกระทั่ง', 'พอที', 'เพียงใด', 'ง่ายๆ', 'ทั้งปวง', 'แสดงว่า', 'แต่ไหน', 'จัดให้', 'ร่วมด้วย', 'นาน', 'เป็นที่สุด', 'อนึ่ง', 'หมดกัน', 'ไว้', 'แยะๆ', 'ทีๆ', 'นอก', 'อย่างละ', 'สิ่งใด', 'รับรอง', 'กลุ่มๆ', 'ทันใดนั้น', 'จะได้', 'ถึงเมื่อไร', 'เป็น', 'ทุกครา', 'ก็แล้วแต่', 'เห็นควร', 'เต็มไปหมด', 'เกี่ยวๆ', 'ทันทีทันใด', 'ใต้', 'พร้อมที่', 'ชาว', 'เถอะ', 'ข้าพเจ้า', 'เท่ากัน', 'ไฉน', 'ถือว่า', 'มุ่ง', 'โต', 'เฉย', 'ดังเคย', 'ถึงบัดนั้น', 'จำ', 'ลง', 'ทัน', 'เคย', 'แยะ', 'เรื่อย', 'ก็ตามที', 'คำ', 'เสียแล้ว', 'จริงๆจังๆ', 'ที่ๆ', 'ภาย', 'เขา', 'ถ้าหาก', 'เท่าที่', 'แม้', 'อันที่จะ', 'ภายภาคหน้า', 'เพื่อที่จะ', 'หรือยัง', 'เชื่อถือ', 'ขั้น', 'บางกว่า', 'มั้ยนะ', 'ทั้งตัว', 'คือ', 'ก่อนหน้านี้', 'กู', 'ด้วยกัน', 'แต่', 'จ๊ะ', 'แล้วกัน', 'เรียบ', 'ครั้งครา', 'คราวนี้', 'ยืนยาว', 'ถึงแม้', 'ไม่ค่อยเป็น', 'ประการ', 'ช่วย', 'ใกล้ๆ', 'การ', 'ระยะๆ', 'หรือไร', 'จึงเป็น', 'เต็มไปด้วย', 'ขึ้น', 'จรดกับ', 'อย่างหนึ่ง', 'ถึงอย่างไร', 'นู้น', 'เพียงไหน', 'ที่แท้จริง', 'หรือไม่', 'แหละ', 'ครั้งกระนั้น', 'อะไร', 'ยืนนาน', 'ใหม่', 'เสีย', 'ถ้าจะ', 'จัง', 'ข้างเคียง', 'อันไหน', 'เมื่อคราวที่', 'ถึงเมื่อใด', 'ส่วนใหญ่', 'นี่แน่ะ', 'กันเถอะ', 'ทั่ว', 'ใกล้', 'เข้าใจ', 'ช้านาน', 'แห่งไหน', 'ทุกคน', 'ย่อม', 'คราวละ', 'ตามแต่', 'หมด', 'เยอะแยะ', 'จ้า', 'น่ะ', 'เช่นนี้', 'เพียง', 'ขาด', 'เสร็จสมบูรณ์', 'หากแม้นว่า', 'แห่ง', 'สิ่งนั้น', 'ที่ละ', 'ครั้งละ', 'แต่ต้อง', 'นี่นา', 'เมื่อคราวก่อน', 'ทั้งมวล', 'ต่างก็', 'แก', 'พอสม', 'อาจจะ', 'พวกนู้น', 'อย่างโน้น', 'นอกจากที่', 'นี้แหล่', 'อีก', 'เมื่อไหร่', 'ใช่', 'ก็ตามแต่', 'จัดหา', 'ขณะเดียวกัน', 'ตลอดกาล', 'รวมๆ', 'เพียงแค่', 'จนแม้', 'แต่ถ้า', 'ใน', 'จวน', 'นิด', 'ดังกับว่า', 'ช่วงแรก', 'ด้วยเหตุนั้น', 'ภายหลัง', 'เป็นดัง', 'ฝ่าย', 'ทําให้', 'คราวโน้น', 'ที่แห่งนั้น', 'นํา', 'เน้น', 'รวด', 'ครานี้', 'นอกเหนือ', 'คราที่', 'ฉะนั้น', 'จัดการ', 'นับ', 'กระทั่ง', 'ทั้งเป็น', 'ทั้งสิ้น', 'จริงจัง', 'หาความ', 'ทั้งๆ', 'ทั้งหลาย', 'ค่อย', 'จนแม้น', 'เช่นไร', 'เพิ่ม', 'บัดเดี๋ยวนี้', 'ช้าๆ', 'ไม่ค่อย', 'นั่นเป็น', 'จนเมื่อ', 'จวบกับ', 'ภาค', 'ก็', 'ทุกแห่ง', 'ทันที', 'มิฉะนั้น', 'จวนเจียน', 'ด้วยที่', 'สมัย', 'ขอ', 'เรียก', 'คล้ายว่า', 'เป็นแต่เพียง', 'นี่ไง', 'พื้นๆ', 'หลังจาก', 'แม้แต่', 'ยิ่งกว่า', 'ขณะนี้', 'จาก', 'เกี่ยวกัน', 'เพราะฉะนั้น', 'อย่างน้อย', 'ทำไร', 'จนถึง', 'พวกกัน', 'ขณะ', 'จึงจะ', 'จัดแจง', 'ไม่', 'กว้างๆ', 'ตลอดวัน', 'จากนี้ไป', 'ยิ่งใหญ่', 'แล้ว', 'ไป่', 'พอจะ', 'คราวนั้น', 'ด้วย', 'ส่วน', 'ผิด', 'พวก', 'เช่นเมื่อ', 'อยู่', 'ยังงี้', 'ทุกเมื่อ', 'ใครๆ', 'นับแต่นี้', 'เมื่อนั้น', 'แห่งนี้', 'ประการฉะนี้', 'นิดๆ', 'พบว่า', 'หากว่า', 'ครั้งหลังสุด', 'ทาง', 'แต่เพียง', 'จวนจะ', 'ประสบ', 'นับจากนี้', 'เฉยๆ', 'ครบ', 'ให้มา', 'ทั้งนั้นเพราะ', 'จำพวก', 'เป็นอันๆ', 'แห่งโน้น', 'นับจากนั้น', 'ครั้งๆ', 'ร่วมมือ', 'นอกเหนือจาก', 'เช่นนั้นเอง', 'จู่ๆ', 'เผื่อ', 'เมื่อวาน', 'เสียนั่นเอง', 'เมื่อเย็น', 'น่าจะ', 'พร้อมเพียง', 'พอ', 'ยาก', 'ยังไง', 'ได้', 'นำ', 'ตลอดมา', 'มั้ยล่ะ', 'ซะก่อน', 'เพียงไร', 'ต่อกัน', 'คง', 'คงอยู่', 'จัด', 'รือ', 'ช่วงต่อไป', 'ส่ง', 'รวมด้วย', 'ที่ได้', 'เสมือนว่า', 'พวกเธอ', 'ร่วมกัน', 'เร็วๆ', 'นั้นไว', 'สบาย', 'ประมาณ', 'ล้วนจน', 'พวกมัน', 'เหลือ', 'สูงส่ง', 'ช่วงถัดไป', 'ตลอดกาลนาน', 'อันเนื่องมาจาก', 'ใคร่', 'เชื่อว่า', 'นี้', 'เสร็จสิ้น', 'ในช่วง', 'ตลอดศก', 'ค่อยๆ', 'คราวหน้า', 'ช้า', 'พวกนี้', 'ยังแต่', 'คราไหน', 'เช่นที่', 'เพิ่มเติม', 'อันที่จริง', 'แค่นี้', 'น้อย', 'ไม่ใช่', 'ภายภาค', 'เล็กน้อย', 'ปรับ', 'อดีต', 'ไหนๆ', 'ขณะที่', 'ที่แล้ว', 'เป็นเพราะ', 'สุด', 'ผู้ใด', 'พอเหมาะ', 'ด้วยเหมือนกัน', 'นอกจาก', 'ผู้', 'เขียน', 'ผิดๆ', 'เผื่อว่า', 'ที่จริง', 'กว้าง', 'ซึ่ง', 'ทุกสิ่ง', 'อย่างดี', 'ถึงแม้จะ', 'เท่าไหร่', 'เสร็จกัน', 'ซะจน', 'พูด', 'ไม่ค่อยจะ', 'เป็นเพราะว่า', 'หารือ', 'คราวที่', 'ดั่งกับว่า', 'นาง', 'มุ่งหมาย', 'ด้วยเหตุนี้', 'เมื่อ', 'เช่นใด', 'พร้อมกับ', 'เมื่อไร', 'ตรงๆ', 'ใคร่จะ', 'กันและกัน', 'ซึ่งก็', 'เสียด้วย', 'เป็นอันว่า', 'ใดๆ', 'ให้ดี', 'บน', 'กันเอง', 'จนขณะนี้', 'ทีละ', 'สิ้นกาลนาน', 'แต่ทว่า', 'จนทั่ว', 'เช่นที่เคย', 'สิ่งไหน', 'ข้างล่าง', 'ซะจนกระทั่ง', 'อาจ', 'กำลัง', 'พร้อมกัน', 'เสียนั่น', 'ถ้า', 'สูงๆ', 'ตลอดไป', 'ทีไร', 'ทั้งนั้น', 'เพื่อที่', 'จนกระทั่ง', 'เก็บ', 'นัก', 'ตลอดจน', 'ยังจะ', 'ถึง', 'คล้ายกันกับ', 'เป็นเพียงว่า', 'ถึงจะ', 'ทีใด', 'ที่ไหน', 'ให้แก่', 'สามารถ', 'ตลอดเวลา', 'นี่เอง', 'ช่วงๆ', 'ควร', 'กัน', 'ยัง', 'หรือ', 'สูงกว่า', 'เพียงพอ', 'ด้าน', 'มากกว่า', 'เช่นเคย', 'พา', 'เสียจน', 'คราวหลัง', 'เกี่ยวกับ', 'ครั้งใด', 'แต่จะ', 'ใหม่ๆ', 'กลุ่ม', 'แก้ไข', 'กันดีกว่า', 'ไร', 'ตนฯ', 'เช่นดังว่า', 'ไง', 'ของ', 'ภายใน', 'โดย', 'ยิ่งจน', 'ถึงบัดนี้', 'นี้เอง', 'ขณะหนึ่ง', 'ช่วงหลัง', 'ณ', 'ทั้ง', 'ส่วนมาก', 'นั่นแหละ', 'บ่อยครั้ง', 'ค่อนข้างจะ', 'ตลอดปี', 'ยืนยัน', 'กระนั้น', 'เมื่อนี้', 'ถูกต้อง', 'เป็นที่', 'ทุกคราว', 'ซึ่งก็คือ', 'แท้จริง', 'ปัจจุบัน', 'ใคร', 'อย่างนี้', 'ล่าสุด', 'เท่ากับ', 'ก็แค่', 'เสมือนกับ', 'สิ่ง', 'ตลอดถึง', 'มั้ยนั่น', 'ครั้งก่อน', 'เมื่อวันวาน', 'จวบจน', 'เท่านั้น', 'อย่างเดียว', 'เห็น', 'ข้าฯ', 'สมัยนี้', 'ทํา', 'ยกให้', 'เปลี่ยน', 'ขวางๆ', 'ยังงั้น', 'เป็นการ', 'เพิ่งจะ', 'อาจเป็นด้วย', 'นานๆ', 'มัน', 'เหล่า', 'จัดตั้ง', 'เรื่อยๆ', 'กลุ่มก้อน', 'ตลอดทั้ง', 'ใช้', 'ก็ตาม', 'คล้าย', 'ทั้งคน', 'ช่วงที่', 'ทุกอัน', 'ซะจนถึง', 'ครานั้น', 'ยาว', 'จนตลอด', 'ยอมรับ', 'เหลือเกิน', 'ขวาง', 'เหตุนี้', 'เมื่อใด', 'ในเมื่อ']\n",
            "1030\n"
          ]
        }
      ]
    },
    {
      "cell_type": "code",
      "metadata": {
        "colab": {
          "base_uri": "https://localhost:8080/"
        },
        "id": "LYPcKLED0YAJ",
        "outputId": "36b7819a-b94f-4314-8dd4-4ba5d34999ee"
      },
      "source": [
        "temp = []\n",
        "wtt = word_tokenize(text)\n",
        "for i in wtt:\n",
        "  if i not in stopwords:\n",
        "    temp.append(i) \n",
        "\n",
        "print(temp)    "
      ],
      "execution_count": 50,
      "outputs": [
        {
          "output_type": "stream",
          "name": "stdout",
          "text": [
            "['ห้าง', ' ', 'กระเป๋าฉีก']\n"
          ]
        }
      ]
    },
    {
      "cell_type": "code",
      "metadata": {
        "id": "UmRWPu8Z5eL1"
      },
      "source": [
        "import pythainlp.word_vector"
      ],
      "execution_count": 52,
      "outputs": []
    },
    {
      "cell_type": "code",
      "metadata": {
        "colab": {
          "base_uri": "https://localhost:8080/"
        },
        "id": "gCc5BNen52UK",
        "outputId": "6b27c2c9-52fc-4438-cf49-3bf9ad49f091"
      },
      "source": [
        "pythainlp.word_vector.similarity(\"สุนัข\",\"หมา\")"
      ],
      "execution_count": 53,
      "outputs": [
        {
          "output_type": "execute_result",
          "data": {
            "text/plain": [
              "0.49198532"
            ]
          },
          "metadata": {},
          "execution_count": 53
        }
      ]
    },
    {
      "cell_type": "code",
      "metadata": {
        "colab": {
          "base_uri": "https://localhost:8080/"
        },
        "id": "fLOfADUr56Jd",
        "outputId": "16d16842-9f53-410e-de79-4fed9dff86dc"
      },
      "source": [
        "pythainlp.word_vector.similarity(\"แมว\",\"หมา\")"
      ],
      "execution_count": 56,
      "outputs": [
        {
          "output_type": "execute_result",
          "data": {
            "text/plain": [
              "0.5188576"
            ]
          },
          "metadata": {},
          "execution_count": 56
        }
      ]
    },
    {
      "cell_type": "code",
      "metadata": {
        "colab": {
          "base_uri": "https://localhost:8080/",
          "height": 89
        },
        "id": "vNrhl04i6G2a",
        "outputId": "6a78f40e-6415-4c47-c5c2-93acc23573ae"
      },
      "source": [
        "pythainlp.word_vector.doesnt_match({\"คน\",\"หมา\",\"เสือ\",\"ข้าว\"})"
      ],
      "execution_count": 58,
      "outputs": [
        {
          "output_type": "stream",
          "name": "stderr",
          "text": [
            "/usr/local/lib/python3.7/dist-packages/gensim/models/keyedvectors.py:895: FutureWarning: arrays to stack must be passed as a \"sequence\" type such as list or tuple. Support for non-sequence iterables such as generators is deprecated as of NumPy 1.16 and will raise an error in the future.\n",
            "  vectors = vstack(self.word_vec(word, use_norm=True) for word in used_words).astype(REAL)\n"
          ]
        },
        {
          "output_type": "execute_result",
          "data": {
            "application/vnd.google.colaboratory.intrinsic+json": {
              "type": "string"
            },
            "text/plain": [
              "'ข้าว'"
            ]
          },
          "metadata": {},
          "execution_count": 58
        }
      ]
    },
    {
      "cell_type": "markdown",
      "metadata": {
        "id": "aNYjD9P-SNhw"
      },
      "source": [
        "Speech to Text "
      ]
    },
    {
      "cell_type": "code",
      "metadata": {
        "colab": {
          "base_uri": "https://localhost:8080/"
        },
        "id": "0VN8kKamSRuk",
        "outputId": "6b9b0e30-5f76-4571-9324-ba7fea425421"
      },
      "source": [
        "!pip install SpeechRecognition"
      ],
      "execution_count": 59,
      "outputs": [
        {
          "output_type": "stream",
          "name": "stdout",
          "text": [
            "Collecting SpeechRecognition\n",
            "  Downloading SpeechRecognition-3.8.1-py2.py3-none-any.whl (32.8 MB)\n",
            "\u001b[K     |████████████████████████████████| 32.8 MB 33 kB/s \n",
            "\u001b[?25hInstalling collected packages: SpeechRecognition\n",
            "Successfully installed SpeechRecognition-3.8.1\n"
          ]
        }
      ]
    },
    {
      "cell_type": "code",
      "metadata": {
        "id": "XVoRhp7fSx08"
      },
      "source": [
        "import speech_recognition as sr"
      ],
      "execution_count": 60,
      "outputs": []
    },
    {
      "cell_type": "code",
      "metadata": {
        "id": "Grpd87BrS8wj"
      },
      "source": [
        "r = sr.Recognizer()"
      ],
      "execution_count": 63,
      "outputs": []
    },
    {
      "cell_type": "code",
      "metadata": {
        "id": "6PLpfxLQTDdR"
      },
      "source": [
        "with sr.AudioFile('record.wav') as source:\n",
        "  audio_text = r.listen(source)"
      ],
      "execution_count": 64,
      "outputs": []
    },
    {
      "cell_type": "code",
      "metadata": {
        "colab": {
          "base_uri": "https://localhost:8080/"
        },
        "id": "Nhdu0D-aS8oV",
        "outputId": "442640c5-8152-486a-f67a-76994d22e035"
      },
      "source": [
        "try:\n",
        "  text_audio = r.recognize_google(audio_text, language=\"en\")\n",
        "  print(\"Starting ...\")\n",
        "  print(text_audio)\n",
        "except:\n",
        "  print(\"Failed\")"
      ],
      "execution_count": 65,
      "outputs": [
        {
          "output_type": "stream",
          "name": "stdout",
          "text": [
            "Starting ...\n",
            "hello work\n"
          ]
        }
      ]
    },
    {
      "cell_type": "markdown",
      "metadata": {
        "id": "AY0JRrlGXJ5T"
      },
      "source": [
        "Text to Speech"
      ]
    },
    {
      "cell_type": "code",
      "metadata": {
        "colab": {
          "base_uri": "https://localhost:8080/"
        },
        "id": "Zg92DXtdW8N0",
        "outputId": "641e4f9b-5721-40d0-979a-01eb58619164"
      },
      "source": [
        "!pip install gTTs"
      ],
      "execution_count": 66,
      "outputs": [
        {
          "output_type": "stream",
          "name": "stdout",
          "text": [
            "Collecting gTTs\n",
            "  Downloading gTTS-2.2.3-py3-none-any.whl (25 kB)\n",
            "Requirement already satisfied: requests in /usr/local/lib/python3.7/dist-packages (from gTTs) (2.23.0)\n",
            "Requirement already satisfied: click in /usr/local/lib/python3.7/dist-packages (from gTTs) (7.1.2)\n",
            "Requirement already satisfied: six in /usr/local/lib/python3.7/dist-packages (from gTTs) (1.15.0)\n",
            "Requirement already satisfied: chardet<4,>=3.0.2 in /usr/local/lib/python3.7/dist-packages (from requests->gTTs) (3.0.4)\n",
            "Requirement already satisfied: idna<3,>=2.5 in /usr/local/lib/python3.7/dist-packages (from requests->gTTs) (2.10)\n",
            "Requirement already satisfied: urllib3!=1.25.0,!=1.25.1,<1.26,>=1.21.1 in /usr/local/lib/python3.7/dist-packages (from requests->gTTs) (1.24.3)\n",
            "Requirement already satisfied: certifi>=2017.4.17 in /usr/local/lib/python3.7/dist-packages (from requests->gTTs) (2021.10.8)\n",
            "Installing collected packages: gTTs\n",
            "Successfully installed gTTs-2.2.3\n"
          ]
        }
      ]
    },
    {
      "cell_type": "code",
      "metadata": {
        "id": "CzinbE4aW_sA"
      },
      "source": [
        "from IPython.display import Audio\n",
        "from gtts import gTTS"
      ],
      "execution_count": 69,
      "outputs": []
    },
    {
      "cell_type": "code",
      "metadata": {
        "colab": {
          "base_uri": "https://localhost:8080/",
          "height": 75
        },
        "id": "7LcBhNDIXPsK",
        "outputId": "6138b74d-89e2-4d5a-8d42-a47318eda5a1"
      },
      "source": [
        "tts = gTTS('อยากเลี้ยงเเมว องค์หญิงน่ารักม๊ากมาก', lang = 'th')\n",
        "tts.save('speech.mp3')\n",
        "Audio('speech.mp3', autoplay = True)"
      ],
      "execution_count": 77,
      "outputs": [
        {
          "output_type": "execute_result",
          "data": {
            "text/html": [
              "\n",
              "                <audio controls=\"controls\" autoplay=\"autoplay\">\n",
              "                    <source src=\"data:audio/mpeg;base64,//NAxAAT0IYEAUkQAPAgFAoFBJEjBAEAwSMXOezn//5rgAAAAAAIBB2sHwQBAEAx5cEAQOS58uD4PggCByXP/rBwEMoD5/KHNYIAhWDgIHP+IHROf/8oGOCEHwfVYmNWjmRwFRW7Spr/80LECxSpYjABjzgAZ0gp1bCa3wBWfh5hFD4cLzp7bljGLqx6/ZK6t37KxtFd2NMMWrbrU2heSaWHXK1CSQuQhZX/orFRyEoV0RbV9k8hYA/7/9tKLomJZMggGgAxZgCEgNicyjEcWC3/80DEFBkKNmQBnTgAMyxkCgAGjBjCMKwwD+pzNlMWAYbcdJnhOORGB6OGNF7pcd+fVWp+vdqH9eiOYyOccxVk/6bujI5kxTmRBgfMv/43cx/7QGGD44bQgh/0/oTVptSYAAWDAfMNBv/zQsQKFWHubAHdUADDvgtlLQsD5EBSGUtMAxPXO6s7eymefhv8uf//////9x+8xTVMsnXqpO7TxeLaGMxpckZziEG8w09EB0UiwjqPQvydygsZ31vlAxk1lMFSFv39MCl46XNzFoIRYf/zQMQQGGJSeADh2rhzKahAfMFCAcAipW/ll40WTL//////6COLxwgVG4EwQstEbNi4akoeWnc6bu1AxHmXGY1MSo1W60UU20WknSYcpdGOUkD58mmSlWWt//29ZvlF19aheAgCTEX5//NCxAkVgeqUANqamDHj0kelSwxiSFlRwRAFWCgAIEpf////78xR+6CyTMgdYTs2LpJx8AB4OQqnyQDkFFd0DFZvpKHgm9cqQ+3yZpLMzotzibUytO/7cm+X/ncKdHQ9mWCV87XjTwcT//NAxA8Woe6oAMtemC4umBPALAL6eagt/of/Qb61NVTNY/pKoxACxRf24mBdWSjcTw0EWqMMD1wLeoY97MEzNvHve1f//v/33b/5w9+PSJmF1EU6Mqpy4fXWoshnQLjQTWo0DBJVrUb/80LEDxMpYrgAm1iUAM5RT3J/0P36kH675OUbEga1NfQhILIJIuZM1QionE5MPBlEvgHgQBpNrRydvRvCwCZDHwyEw+KKIKR/s0r1BfgEZI6heERS8C4nN9AbCdXvNzv733+9K/g0Nab/80DEHhRpargAktiU+VAaAqN2p0zMkrH+sOWK1q4JK144PEAfgOl2AriWcGzHdsA2IxtQ4MKGicqeMPa//wPg3emQwIKDiTacGqWuCgHLvkiP/g67+Wf7zswxAwfFWFQBImtaIw8alP/zQsQnFBnWuACa0pQqJCzVORhlmiAqFhU0jKgIIyZEiWZk//NjH+rz//f/d0tvnBqUC//duWrWO4mi8VIjyJPXlK+k1se7KhRHxl6pNji7i/n/6/0j0fRKLjVlpDued87occcpoqFyDf/zQMQyE3nqoADCzpiKg9BaMHjYqD0ijzn//87RznNNbVSOo7Uekt/TfZeSNRkeKKBVz5ULuC4VYk9lvRR1mUhwjDK5la83PG83Jb/7j7Z6rpFiZEivJoaWnGn/7OUMhymNQUFOMb////NCxD8TugJUAMJEmf/7rsjOUpWcKwYUSWtlj8qHZWEaOIQ9WV6VYQUmA4IPiscJibphowBQVJOIUYO6CB28a1u2XIGFFO7pc1yZTGXJGuOyZGi/f/cj+3oZ/UsAVdNrmpIijKU+Sxkr//NAxEwQCE4cAH4SJDqHAi10dAOUohlt/9Q2IMQu/piD+G/7tH5+iaISJo8KJvHcwiI5kjxXpp7mlHxV6w+IFBgoCbxBv/v/kOQP3/9Xl34fR+BAAJE516pj2R1FTNEN1bAsIM0QYav/80LEZhNBgjgAeYaUXGIBcuLZGeTurpOpo3I76tfXV2/+9FWguIDhcOCg4KBQQPmKhCKocZzCroSztORbs5xjjKwsNzLUNtRZiYQBJghSnX0SBQORCB3GTIBjKJ5Dh22IDxUSEgmectP/80DEdRQ5wmAA0oqU6EO5xxDuen///q00nSRBTAuBogZl0K8humpRFHmX0EWJcxHOUzAxNC4aGJfOLQqa5PNi4ypcQHyBI/L6jlPCzadB0DARDOOPAWIEB0LKFASgQFYjXCMmuIwN+f/zQsR/GHneeADh2pTf/Nb1N//////7jSDMdo+h0gSfJJJqqdWkihM7DZdbayF6z7kjbHf3DSKZZe49Zc9YwR/TmfjD/MoSKAw9N328OCrdV1obg0LGATab7WplkFsBLjxIXMPy5pGfY//zQMR5FIHygADh1pgmN1To3/6OYx5GK4N4ix+YYFGH4AwBBYDHsngdDJAUhVrg5M4o/b2o5Fy55mmY65pa23UWa2HJwuoHsKivOQ3DggRni58Jk3T69//nfxTHpff18/ECIIzEf4jk//NCxIIgQlp8AOKeuW4zCiAAGCwma+ppskNomF3AKCUXQKFT9EOMxhZpLetJNidFLLSNv7q39f6HrMSsk8yNhZojYoFwtCkxagMOgW6FyhXiiQwgoAuR1EmOSNES4CoALcLIoEtG8VqA//NAxF0j4nZ4AOTmuHALqBgWGOkkhUubIr1KICYopLNR0CdyCmzpnUx2rU6kkEuyLsup3KytbFI1W1GZnnRAlbPbL7QWIQUYsbxk0IN1kqgrxCIdnbzC5kmjMsNTg0GV1P9b+tX1N+r/80LEKBzSbogA5Ka58jBwF5RmYESAIIBGgoJbMRnCCAA1AO0KWLpeKI6CKitTFi4xRC0MSjvFfIMXla3R9ZmbPs5DCDPY4RQsmvQZL/6CLdTF5KqdNwR+lf5+HW0MvGiIRe+fjDdioMn/80DEEBW5zpwA2eSUxCMreAINUceBn//9v/qR9AhhmgieL46AIUJkTh1RMDHBcAJ+M2Zi0I2LJ06bjmCUB3Fx03LhIq9Rr/6lGLSgR1fsxAeUXCT//ckcMyH0iBwxOwGw8EGjuN4eh//zQsQUE7JmnADTWrjqW1lZZ9////6vyWstJEmAUUxoEkPYP4SqDmRLKAoxkfNEEBDF0pJMk5mefqNfq/S+p/q/f6vrdvm2WscsKZ0RGEGkfAKBnFgVhqdIFIAdtEQkARHo1UQI1Q7////zQMQhEoF+jADakJT////8itM3lA2kVXoFIVZrxBAFChJqMHQLjTfkkd/91R7INr56sNYKmpTLI6poIwDMJAWNW4GN+huMIQhEIAmAAZFQGAEC5joOhQAYDI3FgwZgpZdCIWK809////NCxDIUcWpoAOqQlKz///ysfyqp/MHJPmqCoUmVNFgai4Lwrq/9+xs8/52uwg6CHgLTGAAPmHr+nhAPDQ/paiAXFoNaMMygMTgCB+XHxk4BQkVs43Ndd2f/879/p/ZPctocpUAwaEEQ//NAxDwSqXJkAOnOlHgsDgzFf/5nR///+e+g1YOhqAmpmAEAcYCIA5hQDkmmoIQNA+ioCBgOAsBABKq4qBUYNACYGAvTiQ9BZfU0YgWFtaF//6/m/r+c3nDZnZWFQbBEHZ6IxUhdPf//80LETBRxemAA8o6U+v/9f6xRlETZEsGBAQMIQ5MGk8PuGfMShKMDAeMZQDCBfVgGQOMWQKBAkuYqZQxjza1kkXbtopu3/1n//t9J9FYwRmMV2GwLgfl6jX0f/9DkcSkc0hAIIgHTBfD/80DEVhJ5YmQA606UfgNUuYEIFIhAPMDAHRg0SL2hQHcPJUShoVmRgOd6CKLiBEpTrUswQ1f//X6IevaUMMogqFYQTz80c6u3S7AZzb8sHfw7r1pRPPWi8hidYQJjUBjoBFQ6/sbbsv/zQsRnFDlqYADzTpRCgXDUwPJFEd4jgaCaabMgyHZNPqppmnM5zd+m94BIczqYsZM3/mBWcOr16+8sIQEB8WdJ28eH74gCJ/Ln4nEAYyhzP/rybNb/ygKH29SiOMjwMHzI2MRyLTwBJP/zQMRyF3lygADkGJSHBGzNQbdTLfs6R4hQ0uXakAb/W9/d53/1vCcx1//197G/xxzWg0ui+rdegQAERLj1L6RiPAh4eEumpcKQewDeQBVDQSPEUJwTyHzDYIofdY55HkKhukQAgpst//NCxG8j8m6IAOZiuKgUSJFVFHQJUt+gxgptaZmr0DBF9A0WULPmZfDP////qt6u5RGChhSfBo0mRsdeWndAOcNnsbMyHiMAMomAaVGrLRMB0ERf0z31n/rOpIvQKJkG/HyDkPHPDkwC//NAxDsh6maUANUkuYGBI8HqixrIGSguAG6Yb6Uz5fJ4dAZwH6jlstQoAMQAKqcNC4XDyYrQcSr5GG5yZpFw2IKzLdBiu7V0i+y/WpfQZLVTQTLvWbmCrg/t/995PJUC/MgwiW+s8ZP/80LEDhbRxqwAzJ6UpUpiS4L+Xk1J0DNvt+3/Tf/7xWM3jNjCW8WkcUN9JEP81i4uWMYgIg/XVfHbCAH6lNSUgIg6XHWNXfwZtfMOHC3XWocMMkVo5n81pdoV//5fvJbFKtHuDNVBgB7/80DEDha5wqwAzB6UY3SmpGACALzKWpMYw2+m33/v/94fqum79uJQBBiLU+2o3BSWGa08A3Dlcfe6kMAwZq62f5dzdda14bHJP/8ywr6/uxzCVoJu0/u0Pzb/1jk8Ji2jTP4SrKZRqv/zQsQOFsnWrADM3pTCWYivgXkOcvUOsq/M/zv1Gn/+VIpo+cRGQPwrzmzPRlMJ7PvV2tHTfNYTYdWt1m2X9SY9fHY6b/xiaNb+9XHdv/WfVgZfV+g9A4QfD1XuiWwNExY0EDqZgFxGW//zQMQOFGHOtACcFpRcM7D7I6zIcLK60PoP6Zu3y4pA1T5YoBQhnthsCKWw9qh8tZ7FTw7T3sHgPLWtl5LUd/xf8Zx1b4k8vAbMr+vNMixupfUWQMvCS5oH4CGus1cfAAkENGs3GIL7//NCxBcUSd60AJtWlC61GLegffmZKH175D+AUXXVyTzsfGO66/QO1xLjU7PJLJV98Etlz8U7/iW81BY49b+Ttbf8usuXe4oq//5msAcAsI7vKbVjfLKkmBQDYXeojxBYvKUpRMH19Ere//NAxCESwc60AMwKlKJxG+OAJy1VH8Yb3K3QRLyCKsyMED2yHL7s3GjS5xcUBqp/9TY0CkYJkd5Y8lYhGBIN5p3LFYAOey23rqjRTNNimxoIJQRyHPtmOKYPzf7hyfdq1j/9u2f/6G//80LEMRRxxqQA1gqU/m+X9uqm2IIC7GmExI3OqPQZAyi4mHzAUKxCd/zzIPZG/LCOwcgCOiKc+c1A4qUNWLdKmjMDltgW8bnH9wQzktA+Lv6tqZlYdasS5ufjPcP//////////6Loh0f/80DEOxNRxpgA1oqURHCR+30MOMpFBwCDqEga+nI66sNy52YDToMWEcNqjgPSBXRzVFkQAggoXGbAHibWEd3ua6KFNh2SYRRKppyaSYULf2av5b5///////////9DOrGMAodQ3TuItP/zQsRIFGG+hADWCpTIHgkLiowRI/kqoJZDjgNJMNEOfS8TkecRun3eYpxvQCGQRxGHea1phFCgJFUAi0hZBAbptyoOPy7uopdr/v/////////////2R3RDsy62Sx3JAhAU9fapKopLEP/zQMRSEzHCaADORJWkEnk0KFQ4RK2MxLQmDD+cfJINBYsLVQhQCIEplZqxmmPuwBtE3VNpY9sbnqRt4nY5fw1////////////6ojOY4ExuSIKdMQwfHB8RHGSwCCoVJh9gW9Xu7FK3//NCxGAW+cJ0AOaOlOYEgnHRA8ELegmGRgjPotAqENPIYJGGygLzgJCxmSZOjqKQKFyfk+kMsLjOd1////////qajVHSg3djY2H8qIoOQsEYkkzhGJDQ4I2Ut0qvSQWygCgswAiDujfM//NAxGAUqc6AAN0OlCQASvUVRmBwQOzrAmrmQgASYjYB8wKFxtGxfHKFBhCAGSY8YJkgb+v///////f5i3ld0E2MSCkkZGRsEyNC8kZSQNnyOW11lLlKds2IAtMPSqOmSPMOwOTtUgX/80LEaBTZznQA5RqUlACFxxAq5kAEbVQ20RIScDnIMjCyjcorDJQ5UuIGyJQJ5Lb///////f7GfqSupxXRAmAIdMw0YaEyif8qrK14DMAkAcGAUmEeP+ad4YRg4gQpeAkCALgXmDCIUH/80DEcBQZxmwA7MqVytxgvgLAoAYAZiPD9gPjGCUSdLhiKKiik6Am46+oz/+r9vt9//Uaz5Ag78J28VfoHrZhErcVaunx7q+/////6ZUscgAAL+hAIJgfqCmf+GYYIIEpgJAEEgAiSv/zQsR6F8IGXAD0ipgYA4fZkUhXGAKArfFbi5AxeGMykYpoFAZNJbEyOgC4oGy1qKC//f5/qc3r9PkDmqcFBhKnhd1XUtQ3TkXyDqNGn///v8u7d665CkqBkAQeAEMHVlEyqwM1rhgEjv/zQMR3GLGKVAD0jpQq1TARGpKw1S9LTqKo2MCskfTYzGUkomE8HAIsl2c+oopN//q+tvWl6+7plJBNZfGgMixqjQg3dv/v9//dm/////6fX6fV+pUvnSpfocTyGQqV0zas2MAcCUwR//NCxG8ZIx5UAPNOvFYsyHwNpMCgA1yr7BgjpgtgEFAArznmGkMyCC6y1kSoyD8U0W1N///0/X6r0gTEwADGtEP/+Rl3///Zktm3LUhLEziHXVNy1CXYEAJMDkG8wYGKTMdBkMKwBIwO//NAxGYTqV5cAPNElMBksyVQAjA4CJJ9gEQuKPw2SgwNT2MPmLdbDKw/30PDUp9v/+A/90FOyUHRpQoxr/257fhn5H///+t3pWhEwAEwFIOmHImHQisC6zmRAEAoUxUBQqDw6GyAGij/80DEchSxUlgA9kRwkJ4jgSERKaYULHsqlVR2//////9CXzn/6v4d2aHA3cQhw+6IDj6PXvqOfxAqtULMBCAJgMPxibbhgIDBccDAYowWbMAAnZpIrGT8MdJNEvB//////79kCE9kBf/zQsR6EsmiXADqhJSFtjnk9y/FlPZNMmHc8mTsqTCBh5liAAEGmYQIRqnPv1n////z3dt8tPbpBNX+rKeQwCBTj+lMrBEtEXZRpMNk03aIQEAr1a67chFwzKS//////kvMBVTXj4fFpP/zQMSKFopScADoTLm1vhvjW1DV6e28gs67L0+ieArH2t4YFbnO1OjlTmSBKtwPePemf/n6/+/r+u8fWYmcZvOzntXK/JljBACehJNDVvvqZmDG4C+pbU0LghatPr//////////0QxP//NCxIoZEl54AOBeuSDgTg6ItFhUIjhiQIsyhAeiwtePHTXMarBBIqruH4qaFzX/gICKF5SVS97V9gFgM3uSYdTpZUm4ZRqGjiCt8mtg8DJoqUn5j//////////+kjq49Gx5fA+CaejH//NAxIETQdaIANqQlIKS1J7SdudSp1u/a2ounN2IwbbUKd/2KvBMq4kqh7U+YDAGYbiGcJhgCh2ghpZCFxiCOqcD6wE+4A+VUEVFh9RobX0f/////+pppKQmDULobCyMwtAgiFRRcVH/80LEjxQJ2oAA21aU6eDwNfxELPmiK//JQ2dVp1sMpMFALMa6fO5xmMTQPHgFRHMIwhNWxCFgjDgBgMqgSARImTFSRDWVchakJKqZf////9WfpnMMRocOg1gBQ+JHPDNSVQA9GrZtpGj/80DEmhM5anQA7BSUu//8rRUqhkZAAhAMwCB4CeKZ/lMBg7BoCGEQLkJbmHIiL5fZrrOAFVImhJH1ClnWhIIyCkR1GjqdD/r///zGtbQ8mJnU0IwvSU40Hhoyn//U+L//rqpYUKgEW//zQsSoFIlqYADs1JTR0KDHTTTvhEjDIGwUDwMAkwYFk1aFoOCFTZiIqAgH3on40mJCOlUQe9Q1VmG7//7e3/N6rtGLzygCoN55xcVRUJFnf/0yv9vv9Z9BTJ1aqQyDACAnMLQMU1XgfP/zQMSxE+FmXADtFJQFB2g4E8tkQAlGCgG6IQDmKx6VBAoLUyURxotFY6TfWQ03R7/9fn/9X9+x9bjzMrjUNolSH/+oV///68t//QpWZKkRgoMCyYKTIdlUiYZDoYMBCMAYVAYM40uA//NCxLwUqWZcAOzUlMMo8C8CykCMhQDczKB0eKlLJrcxKqf//9X//r6pSgwCFMYAhMXaSZ/8Kn90HP9f////7uVqYIgAYoYCgDxgHhaGj2G0YFoR4sBMwUEAEmAwIGYMQCgLW+ktUBFk//NAxMUTGWpcAPUOlGEow5V13+UsP56w1k36f/ox+31++9XOZh4I4defb//////01VwJ1BYDQuBxAZZvh0ZvKLZhaIyEpYxhQMZlQLZhuBitil6uP4qzaNNqZYMLs8J+2XvSu8emf/7/80LE0xQRWlgA7IqUmd3+bMUemQHgk6hbTd6z2ZNtuO0vyjTIC0hJ5SIXDB//TPhZ1pio4MqTREIOER5OPn4QBWTQeoMgUClURDiy/z8S0x7zpPTZfiHJlh7MJyGOdwduN5f/1X/n8P3/80DE3hKJUmAA9gpwTc/OZ1qWJM9Lvr+cSXtaQgAo4cG4FLagRExQR1ILkdZqqYcHxty48jwry+wxuqz1awAIzATUYWrtRZAxlb5S+pFLb6PxY3SXc9Yf+8M/z7hnGIcwztUUNu/T0//zQsTuF0FmaADrzJTJKWku09P2pjb7//hyvT5ykR/CIhX7tyZlhAXPlxDK81ZgNlYMCmkANpblM6sCZDp1it9IM4yzFbjBJB+ty2alnP1jNTdvD8a0dfuf+tTJ7DI4OMijDkxhChMwYv/zQMTtKVI+gADmcLkdDxgjNZqC5o9VLpXJodRCD8OYlxpBmlUGrVKzFDUgXhbCMF+PGGN4zVG1+DK2tjJEr6Xo/v8b1ePeFd456iUtHfQLPKoZfGB7ziwjRgfx//+rHh24ieimUlt5//NCxKIlcgaUANZemTzt5D1vDaBkf03WVTFxR7zXxV1e/+ISjvvXrBZnGf9hdiGRJr+E7YI/+dNz3evmCpXP3rBP5pJw0R7J48i/nK+eRWGZ8oNbxvLzOP/4Y9EhEpns781l1f/ustCF//NAxGgYkb6sAMvelKBZdfcN2qsMpMGCdahNwB5jjQZEok8IJEFUzKOEkb9Z0qETXTZSkFH+7th7IjkZT/VaM8Pfw+Ym159+CyqZkrqV7RAoPczaokkSNtV+9ez5wprFoUd5H+q5klD/80LEYBoZzqwAzJ6U+pZzR+uhYc0K/94V5h+wX048vnLGeDD8cuY7tqUh07Vj8ZS8Jeh/Lvf3Zh6zz/wrN2s2+fjBdSbP4+d1orY//3l5H3/7SqB59+DRYcfeimcxxGQdD+NKrUNPKtP/80DEUxpJ1qwAzh6UG9woMffzXbM4RKe24QMANSnVdHNaR1X8fwFKBcYjeKFn+/+GEbHHM0vfvKItyQsil/f6xf2/r+5dcpv4v/xKiSaRvf/2j7//s5a/+aQ3kCn75rRlPaVlXRvkLP/zQsREFyHOsACmHpT7xNl6nVJTf9ryXv/rMJhhx3iQNv3/p1Dl9SZgBfQ8IEpxukEqUgodIANw6UvGi1IkcFqXQQWmofBPNqWiJ8V1mAviuZqetRV9ayN7pDHMbLTYqB3kuiZzo+lAJf/zQMRDFfnqsACc2piRO1UiX/chO2uPhu9OhLDOjv1v09L8sgAcd6y+1bDAQXyZBBMOeW0ZkTSQYCNCqeoOcK9+kXi0h8qKDNBv8wt/9Jtv4nHxQ7Nm5oQIzJaCVG5OBKOsv9Gf/tTu//NCxEYTgc68AIzWlH3KG4f0f/fo9SygEtFhAtPWPhrpnP74BtCzpG1510ME6a6+Ppy3/83Rb3XMFsTLeUb5Qaq2qBMCyabqIIBAQw2Lm0FQhJXROHcTHpUHWXCn6ujq//z3cxMfNmuD//NAxFQSwXa4AJvUlPXN1k9AcN0GUeLYBtAWEswdNRHCPnvqLB+rWTAyxst6jozjJ95i3dY7tk1m4mAvmMwOkuQxUDiUSzoLSHsbJ4l4a2ndbsC81f/sQlb0J6iKohu7aWE5XlAzBMb/80LEZBQpdqgAzNqUr0FLzcRU9Eqe9jupWq4/9Xhj9rXvIyW/mHT4rvfWS1rcxhGIy6c4EJQVgUaXxgiJRSYIgYGCUWQv/6dBJf/dqzIwoseycYmJ6Tu4ISR6tOCrlKomwgyIcW3rPDL/80DEbxPhUpAA1hJwiG/3+8rE/h/M9WYbwsVbdR42Hw9VpsrFPbME0EUkh6CxJYqIonwWgLoANMFYKiOMQTwD0EtAKMFvJyI4wu4VcvFiaNdv////T3pm7zL5mCDQOOSVZPkYEKQLpP/zQsR6GvoOoADOGpiKlBFZPgQhyT6RgdLwucbZ93daRv1MQ8ZY2qZDlsVW8/bA9zr/bYrn1s3jqwW8gskFSMBzgyiFLpDYbWUBi0cs61V+d//6g8la9dX1nAaYM0bptzUXgW5zlxjYFP/zQMRqFglysACcHpRP1nrWaaDKp7Hv+dqvmZ1ee16ZTqiSpyfocLpmZbYtWaOxmhKJ17FwKB/BERXNK5yZPSIJh2Q/7NHJ2F35dBHkI7pHBuivP9j8xlK6aLV+o2ExoitW5a49cay5//NCxGwTMVLAAJYYcPnnAePNf2CG1lucbvUsUX/4a61/s8Q2LWBCsiDldZiyIgbrDCvrEj0NRMCsUNYhoExjfp0u3xIZYsmq9zQBUTVWsU8T62dXVRC23rHWC2w4s9O63p3bP/nybps8//NAxHsWSV64AIYelHWqj9c+7pAbXfyMa/xjN8OKG1ywgAGEbeJPFaw1j8VcOAYaijv+ml3PU+dvyCNjqDuhz7cKopKCZFJzJa5IhxKJh1pThHSws2bbxbe/yjTKChSayPzWJb/++f//80LEfBK5XrgAlhCU858/cjO9jqBlzhriQiDv1nayz4lGLd/+JXSadJ/2OorLZfggKylnMvVuadUOjc9OYFqVEvJp0XXC6XTxVW1n1rVwxXTCCElLzVOrpjcJwWXkQlZsaLPhNzn/K5X/80DEjRLpSpwAw8xwcWDqxFkfK6nsZlf///+mf7UJuiSqwWMt5CBkREJUMLiEDTkPeOmgokLLFgMZmJlqJl2GH8kCAwghIEYPoOu6T6rfi94oivRFC6ks2sf+r3f9gtXUqpOpdY3PvP/zQsScE/DKTADDHnBwtNdBcBPRaSQL5rfbPFLcxL5HXmKKpDkQoYk/NwBMnuOGcT6+ou8bAAHBtp5wnYKsFBpw48u0YcLlD2apuebVLY1iYqvTHf+3//zhJV/oqGAIDGYypSpgWgGmHv/zQMSoEhiCLAB+DEjDNhYABphlUiyixGpupHbAIsJFdyhYJpLkxAgLisCojCHC4Q1MPfKwMIA4AD9kcPCAppdNQNzBcJE161LUobJwn02RZS0EE0kDMwMz6NTKXS7uySRoXDxcLK0E//NCxLoT4JowAVhYAFSvmtdB9RExprOJF1NAv//1N7/lI3ZoIFAAO//8VidKiacsO/4q3+MQDiqJPSjYpmYBAEBgmgSGQGiqYIwW5g2AgmB2B0TA5AYD4wAQEDBZAtVpgWilXEdJDlVq//NAxMYlCjJAAZ6YAFPDhcgA0VhkeYqxNOfv0+5b/6fo3RCHsAsHzjLtOp2//u///9v//XXV+ZiDXFbjo0mMhghMB14LAwFMDisyaAVEZY/jPzAJcBcNWN/5VIKefXey9y3fh926tvD/80LEjBYZYmAB3jgAibvvA4l2nzz+7T5vEi56O/CV/aJ+idfv8uRR5AUWRdhHDgPEqYTREmyDElBDD+0SngXHBic+mxQfkyEIn9b8q0um3mPBUXvt01xk4IGwMTOdHo2+4qgezLBIGpr/80DEjxw52nwA5hCU5JzECeKHa2cSh9taCHo1bcUHHvXB1fJ8QCKNKQuUVKjgMsrf/1oYpec39PI8f3quvr09tUbtclYDQ7Wu1SAUEaPt0cyiz2XslejrrokD6VkdPKg6KvtZt/rTM//zQsR5I/KKjADeWLk3n5mb90zjFc/8gMFqa+anLff8r45Pwst3I63YsIznZl5xKkk7LDFFkzv5WfMQeUlPXrl10ybdiatVZtlctxrcqpzsOhXeUy5wEBA1+e0zZVDo/ZsbpG4Q7+sMav/zQMRFJFqWkADWGLhOZ5aq35vu7l+k7J+6wlqa0aHkejUvH0JXD8s7bPOzh57HCoc1fosKhEJzU2YOEtem94rWmb363TfbV3GDtcYregdLieBVaJZfptSCtegXwvQAVZHYbpqcML9S//NCxA4Usd6wAKNalEE+PdMxFtrcnm21EYRa1IGgKMjLrOhNyVQ5MJXzM2bup21GD9ZfSaks3JVqlGBY6WtFupBLWo0SW2aTshs+UwIJY8HXKdaRTCDAy+ZLoEeK06kwnp7qCYHGesim//NAxBcTOb60AJNOlPqWZkFnYyGcF4dVIoCsAwxmQwVlr0IfH185tI/azjgSm6lCqpzfU83uKAxCIHzv+/FECpMfGO5iEIIFI5eQQTLAYJbdgM5LUoJuWdYxD/jOUVIol8S0Ujhtckz/80LEJRPaarAAo0q4Fj3QGU/Ub+sw8g0uyBGd7gw56xAGtoPbq2sgm3QRM/N/9Pq1pkEe4kbE1f1hXlDMAWlnh9O3Rz7978wB0xY2NSt2cfc0b1xutdW9pz2R17aehCEtKqa3Z/T6+jj/80DEMRLx2qQAy86U2fVQckTnx45W0/9EGzmpOHmPDQ1v+GmqBrBlxeJtgsOGEG/QLNNYLjN0Vijig0rpFOgQhxyHkraIc3nTNBlcX0+rZ1CkjZpthTBLn8OI+BibGVy/trNyyo5SGf/zQsRAFAFebADLxJRsilDDnVErP9LZ3kcs752Va3Kozss8BZBRxrWNhDAAWjjRpvHuOllzusFVZRhwnDgG6BhMDIiaDRpoXHhPtUPWWZmkNUp6sOLSYcGRKeOrT3PX/bT/R/0881XUVf/zQMRMEvB6IADDzEhrWYdgcYGqCFGITYXY8i9nmiD1yq4Vs7j7xdTuYY5ZBNN2x9z/589+GPiqTBAqxF0AU0SA/XqAa51d6Iuu/R9S/M+tuuKVMs9uAYWxVXYZKnszoOeEQT1DAQJn//NCxFsTIM4gAU8wAAY+Orm3c4lQeHlJb5WJyQKxjha2HaHkIqE7JBAASg5AwAJOECSKmNJDVLiabGSJ43ZGXymlSKa3MaDMzTs9WaF81UapKPmJ5e6Lc0P611EI+6le16Cq2ddlLoJW//NAxGojk4YoAZloAFvZrNWcqbbXsvZWtW2qrtrOIoL9qvUqmixx1qT//7zS5r/mBdUIAFMG8L0wCQHDCECBBoDZgVEpGE6BeYIQFhoWCjGAOEKZkxCJgbA5mAwAE5pgeARqZGEWA8r/80LENh9iKlwBnmgAwhfxwCMBtjyB7AJBgA9I5eQHoPEuATpdKBupqFddS+9Guur+t6S2UipOzrmBum/9MtfQ5OHndZvX//odX+c9v/////9jf9CFdFksMhQBDBkHjDsaDRmpDW4ABIT/80DEFBQBumwB3SgAtX4UBgMAQaAMeHVvnjhp+XUc+RvJG60zKlyhgfmiQwOi4fRrPZ6dcz66N9f3+PFzUUYBmc6aev6MKLLL7VlWFGl6ZvAk1A40vWClSyQMNJ4SiIQLIAuqco89Q//zQMQfG1p2lADeULgjnabF/6a9XuUT/7mL9PTvusPC/3rOYfjn77unln/z99z7//9Jhz9BSuKyGp7dg4AhvaJp/u7u7wgN77RCxlfyL3////H/x97sKGIiOhiK/et0DcwR6hXJsKe///NCxAwWSnqsAMxOuFUxcbOO0w2UA+Eyy2clR7V5itsxLoxhujRMjIWebdax2LX1P9P6GvqpxBdkQMHuhw6IS5urDjVuaTTc0ao1Ksf9//0vNY5CB9znHy/IVf/+4xo1KI/QnCCas0g1//NAxA4WunaoAMROuc7ntyYApygnploTJ/Wf9IhxadmmQrRLnVCy2Tfctt508/Qo7bII6PuaB5hB5o+PFU0HCJy48Kx41MdFI5erkl9m/f0OPfmjdk2QaHv41pHReBKIQJaZ5ymGD2T/80LEDhQR0qwApBSUF5eACiy/KBAk36Zs26ZZLT61EkOH3Q0DBr9R980kP6ETfYnZ5pwURU1kMGoUg/8wl+46Y9CguP1ht1ffUI8mBIuJKvTIYATgFSF8zJhTiyCXXrJoAGSE+oyETfr/80DEGROx2rAAm1aU0vRJpKPzEWLL+EgrW/2mp7/o7H+59/ykb/2iSR0HIl8PJk324/X8uSOx7nK1g32/NviIgxZS//5lOgmJH2juwZqontOK5gAbho9dEUdTvsWvdEeEfF213M0Aef/zQsQlEpnWrADEmpQc6LutRMfrk6+uXvrKT9zURBhVYxF5+sr9mH9FLqHx2zT35PXzVf/W7kdGYaSOXKbDFPeK958shBNfoCcPqM/WWCWbU4vU1ugYsOkbSD8vN6JZ9WJU9Rp5GJAKS//zQMQ2EvJirADU1Li6YqhoemovL+49P+K9+5v5n1/l/let//3hAYW5Fm6TCV47YbI0XzgC0C97it6flZ/LCLV1DdqXnRqC3mtqiS/xUf46/ob1QSBee9ywqhAcfNdi9uJHzSxZ+5Mu//NCxEUSyfasAMzUmI7tOVfkdKruxPhaaFI5UQH86cDRC8rnQM8nX3Lgz31mnrMiJ+sbp5FszDrFy+gqF/Uft6EnpHepgrArPZTHEcICfuMCbow/Legpb5bv0aH5nTX//WMFBSoWWvdl//NAxFUSmfKsAKRUmDnm98hO8mAGQbeXxcp71FX2TIk3jXNuwiIA4SRvc+NjTOg0f57ePpoxiAOJ6hcAcA1HvFSvxwaluYYJK1FH7/yep+SV//1nJBWxWCrnSa2yHqWqA1lNemiMNa//80LEZRNR1rAAzE6UnG9TFarUVUoZ5eCqzuJgtZ/LDtf8O/5Ru/tIRHrzaagkSlm+C1aPtC6rqVKPdX/9GpXdkyqCyweEvpkopAO4ZWmRGg3BS1kYO5JXOK9RDDZWtiBJJWWTgsiWSsj/80DEcxIR3rQAzBaUmCfrKkPmCXdjBJ9iou0ndEQQeKKOiVHraRMSS8vmr5F1XZr1Nwiq/f7uPSM+spywv5cVXxTdSYVgAgkB7pCCGb6pxuyY819y4JyhUJuBQ1fVzZhH/J+f9k1/6//zQsSFFAnWsACcGpRXzh8Nv1CkGrZcWxFZ308tZ70ihINy3/9lSf7+V6HhsAoXosJLVqqydleYhKDTy89ZcESJL0ym3lkueYDoIqldEnRAZM1RucM/WTzb2Knd9Zg3MB2FaTzM+H0olP/zQMSQE4HSsADLVpRPTIzHckklWTzJGowNCULX1qOhqtm3VqF5gTMitf/+dpTbmlVfuNJKESbKRxEuBOBmjNkjQVwSiXk1qlw+/MCCo1KOGRBWdDBsAqCau3cwudPwtf9ptr/edr4k//NCxJ0XmeaoAMwamJ1cqh4OgeIZspm5KbVPe87zzJ6u/ekeWO/6oHvWHyzv/h1GQ/k2O5brR9Qdmv+1yQAfXH1yb4pUbG/2y2/8QI3/zHRCEzbogGgAY4mZco6/Rv53quZbZv0Fjplx//NAxJoXOd6sAMyWlACxY8mRgg0s1T03wOooWhFZTXhYl/0OMiUuwlM1/91JsU0Fp4lZzwX2rTdyzIpyQrGfpjRjvGs0gzf/2tvXkRKhi/5MAs2xn6fVPt8xm3KUtARwEBEwqyZEpkf/80LEmBZZ1qgAy9CUHizQWf/15aIp0FcsqPQyh3gaCnD/xwIgAidrE6sOYMHiwTQTLguxbUKYYuG8Qk8ZYsF7iN619f/izczQZvjLGdDGr/0f9PfQz/AgyCo0BC53KkqhKxiqv/pK1TD/80DEmhJ5gqAAy8SUAAwCFDCJONXrAxRLzrhxN+1I1mWTThnO/QQbgNVeLEFBnepnCmJ7K+hgxlUEYCh0gwwGREDkOhJZlqFV6xNW6ayP//Y3La/kvT7X//0qUrKcqzY7gcxYifARLP/zQsSrE4lqbADbxJS0hnvNPSFXq9QCIGgaBoGoNB0FcFDx4Su3ZYq8RKBo9Iyp5glEpYKP8rOyp2JXbeu/lXeCv5Jbp7X09NVMQU1FMy4xMDBVVVVVVVVVVVVVVVVVVVVVVVVVVVVVVf/zQMS4E5iSHADmRkxVVVVVVVVVVVVVVVVVVVVVVVVVTEFNRTMuMTAwVVVVVVVVVVVVVVVVVVVVVVVVVVVVVVVVVVVVVVVVVVVVVVVVVVVVVVVVVVVVVVVVVVVVVVVVVVVVVVVVVVVV//NCxMQSCHHsAHsGSFVVVVVVVVVVVVVVVVVVVVVVVVVVTEFNRTMuMTAwVVVVVVVVVVVVVVVVVVVVVVVVVVVVVVVVVVVVVVVVVVVVVVVVVVVVVVVVVVVVVVVVVVVVVVVVVVVVVVVVVVVV//NAxKQAAANIAAAAAFVVVVVVVVVVVVVVVVVVVVVVVVWYkwDJIgsA0pmRk6ViIyNHBKOORo6A2GGNHQOCUcWIdLKLpSCcXDnStNC4co1JQxOLZ6laaFw9SkoYmZbPUrTQtnqUlIJw7TX/80LEowAAA0gAAAAAK04tpqaUgnEYWqGVC1UBaMqqGVKu+oWr6SdX/9Vn/2rb/3TpkxM4YC7WavNGsSWCGFwQHHEB4AEiWK8ACCF9F8EHummiQuE9+m+9MtzJ070GxVlfeujz8OD0rNv/80DEpAAAA0gAAAAAawYRTu/tLZ6SAjwdSH+2/7B6QzP//r5H5h4nOR/rYEc3kX3dqOYAKumrj0QPJqyIsVzLQY7kVfQKA7UQuaeHzGhC7j+8qOJBKMvTz00FWDKhW3DoTQwUr0ok5v/zQsT/GvIpoAAIzJm8OPGteGbGSYM3+savmd306PjM/PuJjetvZ/2d+K3d2bevj6fsvn39tIH0VXowcODF0icxJaEpmSgum25CS3tDUqCqZzOKshLy/V7rAxmhZ59SDPQt5rW1f/eoqP/zQMTvF8mN+ABIxpVBH9c/tuf3h7MX+mN23xqa5v2Z/+CqviDJsZpZv/tLljvmfDZkll0qNCQIOARA4AgSiWmoBQkMAgIcRhItE49I2Ei8rSLqp8rZb0+b///6UjlQj9FKGRyp9FYy//NCxOoXic4AAEmGld/u31uX7GVjKxppUcqP5lIYLNb5Sat/1Ut/2KsY5SkiqKc1thLMVV/GUkt/JiqtTEFNRTMuMTAwVVVVVVVVVVVVVVVVVVVVVVVVVVVVVVVVVVVVVVVVVVVVVVVV//NAxOcVySn8ADGGcVVVVVVVVVVVVVVVVVVVVVVVVVVVVVVVVVVVVVVVVVVVVVVVVVVVVVVVVVVVVVVVVVVVVVVVVVVVVVVVVVVVVVVVVVVVVVVVVVVVVVVVVVVVVVVVVVVVVVVVVVX/80LE6hhqHcwAMYSZVVVVVVVVVVVVVVVVVVVVVVVVVVVVVVVVVVVVVVVVVVVVVVVVVVVVVVVVVVVVVVVVVVVVVVVVVVVVVVVVVVVVVVVVVVVVVVVVVVVVVVVVVVVVVVVVVVVVVVVVVVUu003d\" type=\"audio/mpeg\" />\n",
              "                    Your browser does not support the audio element.\n",
              "                </audio>\n",
              "              "
            ],
            "text/plain": [
              "<IPython.lib.display.Audio object>"
            ]
          },
          "metadata": {},
          "execution_count": 77
        }
      ]
    },
    {
      "cell_type": "code",
      "metadata": {
        "colab": {
          "base_uri": "https://localhost:8080/",
          "height": 75
        },
        "id": "NlgzMmhDX6Pz",
        "outputId": "54ebe706-f25e-48a9-c1c5-745b6138b248"
      },
      "source": [
        "tts = gTTS('ちょっとまって (ください) よかった しかたない or しょうがない', lang = 'ja')\n",
        "tts.save('speech2.mp3')\n",
        "Audio('speech2.mp3', autoplay = True)"
      ],
      "execution_count": 78,
      "outputs": [
        {
          "output_type": "execute_result",
          "data": {
            "text/html": [
              "\n",
              "                <audio controls=\"controls\" autoplay=\"autoplay\">\n",
              "                    <source src=\"data:audio/mpeg;base64,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\" type=\"audio/mpeg\" />\n",
              "                    Your browser does not support the audio element.\n",
              "                </audio>\n",
              "              "
            ],
            "text/plain": [
              "<IPython.lib.display.Audio object>"
            ]
          },
          "metadata": {},
          "execution_count": 78
        }
      ]
    },
    {
      "cell_type": "markdown",
      "metadata": {
        "id": "uh-cuuyvckiY"
      },
      "source": [
        "Machine Translation (MT)"
      ]
    },
    {
      "cell_type": "code",
      "metadata": {
        "colab": {
          "base_uri": "https://localhost:8080/"
        },
        "id": "H3359yuFcwIp",
        "outputId": "a9c66faf-eccf-46b3-9af1-1837201c6377"
      },
      "source": [
        "!pip install googletrans==3.1.0a0"
      ],
      "execution_count": 79,
      "outputs": [
        {
          "output_type": "stream",
          "name": "stdout",
          "text": [
            "Collecting googletrans==3.1.0a0\n",
            "  Downloading googletrans-3.1.0a0.tar.gz (19 kB)\n",
            "Collecting httpx==0.13.3\n",
            "  Downloading httpx-0.13.3-py3-none-any.whl (55 kB)\n",
            "\u001b[K     |████████████████████████████████| 55 kB 2.1 MB/s \n",
            "\u001b[?25hRequirement already satisfied: chardet==3.* in /usr/local/lib/python3.7/dist-packages (from httpx==0.13.3->googletrans==3.1.0a0) (3.0.4)\n",
            "Collecting sniffio\n",
            "  Downloading sniffio-1.2.0-py3-none-any.whl (10 kB)\n",
            "Requirement already satisfied: certifi in /usr/local/lib/python3.7/dist-packages (from httpx==0.13.3->googletrans==3.1.0a0) (2021.10.8)\n",
            "Collecting rfc3986<2,>=1.3\n",
            "  Downloading rfc3986-1.5.0-py2.py3-none-any.whl (31 kB)\n",
            "Collecting httpcore==0.9.*\n",
            "  Downloading httpcore-0.9.1-py3-none-any.whl (42 kB)\n",
            "\u001b[K     |████████████████████████████████| 42 kB 1.1 MB/s \n",
            "\u001b[?25hCollecting hstspreload\n",
            "  Downloading hstspreload-2021.11.1-py3-none-any.whl (1.3 MB)\n",
            "\u001b[K     |████████████████████████████████| 1.3 MB 11.1 MB/s \n",
            "\u001b[?25hRequirement already satisfied: idna==2.* in /usr/local/lib/python3.7/dist-packages (from httpx==0.13.3->googletrans==3.1.0a0) (2.10)\n",
            "Collecting h11<0.10,>=0.8\n",
            "  Downloading h11-0.9.0-py2.py3-none-any.whl (53 kB)\n",
            "\u001b[K     |████████████████████████████████| 53 kB 2.0 MB/s \n",
            "\u001b[?25hCollecting h2==3.*\n",
            "  Downloading h2-3.2.0-py2.py3-none-any.whl (65 kB)\n",
            "\u001b[K     |████████████████████████████████| 65 kB 3.6 MB/s \n",
            "\u001b[?25hCollecting hpack<4,>=3.0\n",
            "  Downloading hpack-3.0.0-py2.py3-none-any.whl (38 kB)\n",
            "Collecting hyperframe<6,>=5.2.0\n",
            "  Downloading hyperframe-5.2.0-py2.py3-none-any.whl (12 kB)\n",
            "Building wheels for collected packages: googletrans\n",
            "  Building wheel for googletrans (setup.py) ... \u001b[?25l\u001b[?25hdone\n",
            "  Created wheel for googletrans: filename=googletrans-3.1.0a0-py3-none-any.whl size=16367 sha256=2cfb4d19f22cb0304fcf46f7154db8153649147d7dc4d84a720e44ac12c8015d\n",
            "  Stored in directory: /root/.cache/pip/wheels/0c/be/fe/93a6a40ffe386e16089e44dad9018ebab9dc4cb9eb7eab65ae\n",
            "Successfully built googletrans\n",
            "Installing collected packages: hyperframe, hpack, sniffio, h2, h11, rfc3986, httpcore, hstspreload, httpx, googletrans\n",
            "Successfully installed googletrans-3.1.0a0 h11-0.9.0 h2-3.2.0 hpack-3.0.0 hstspreload-2021.11.1 httpcore-0.9.1 httpx-0.13.3 hyperframe-5.2.0 rfc3986-1.5.0 sniffio-1.2.0\n"
          ]
        }
      ]
    },
    {
      "cell_type": "code",
      "metadata": {
        "colab": {
          "base_uri": "https://localhost:8080/"
        },
        "id": "EJSOsNJuc1-7",
        "outputId": "9ce3e5de-840f-4781-b4db-0d362f67954a"
      },
      "source": [
        "from googletrans import Translator\n",
        "mt = Translator()\n",
        "translation = mt.translate(\"Hello what's up boi?\", dest = \"th\")\n",
        "print(translation.text)"
      ],
      "execution_count": 81,
      "outputs": [
        {
          "output_type": "stream",
          "name": "stdout",
          "text": [
            "สวัสดี ว่าไง บอย\n"
          ]
        }
      ]
    },
    {
      "cell_type": "code",
      "metadata": {
        "colab": {
          "base_uri": "https://localhost:8080/"
        },
        "id": "zW7-iMfDdTNs",
        "outputId": "428d46d1-c2a6-4458-dce6-be3e9bfbdc13"
      },
      "source": [
        "w1 = [\"Go go go\",\"I try so hard and got so far\",\"ちょっとまって (ください) よかった しかたない or しょうがない\"]\n",
        "translations = mt.translate(w1 , dest = \"th\")\n",
        "for translation in translations:\n",
        "  print(translation.text)\n",
        "\n",
        "translator = Translator()\n",
        "print(translator.detect('ไท'))"
      ],
      "execution_count": 88,
      "outputs": [
        {
          "output_type": "stream",
          "name": "stdout",
          "text": [
            "ไปไปไป\n",
            "ฉันพยายามอย่างหนักและมาไกล\n",
            "รอสักครู่ (ได้โปรด) ฉันดีใจที่ช่วยไม่ได้\n",
            "Detected(lang=th, confidence=1)\n"
          ]
        }
      ]
    },
    {
      "cell_type": "markdown",
      "metadata": {
        "id": "ivFLgkcifUG-"
      },
      "source": [
        "Exercise: Record the speech -> Translate it and display it via text"
      ]
    },
    {
      "cell_type": "code",
      "metadata": {
        "colab": {
          "base_uri": "https://localhost:8080/"
        },
        "id": "tJNR4t8Offe4",
        "outputId": "b490c0fd-7070-4e0c-f965-5e55c011fd6d"
      },
      "source": [
        "import speech_recognition as sr\n",
        "rr = sr.Recognizer()\n",
        "with sr.AudioFile('record.wav') as source:\n",
        "  audio_text = rr.listen(source)\n",
        "\n",
        "try:\n",
        "  text_audio = r.recognize_google(audio_text, language=\"en\")\n",
        "  print(text_audio)\n",
        "  mt = Translator()\n",
        "  translation = mt.translate(text_audio, dest = \"th\")\n",
        "  print(translation.text)\n",
        "except:\n",
        "  print(\"Failed\")\n"
      ],
      "execution_count": 94,
      "outputs": [
        {
          "output_type": "stream",
          "name": "stdout",
          "text": [
            "hello work\n",
            "สวัสดีการทำงาน\n"
          ]
        }
      ]
    }
  ]
}